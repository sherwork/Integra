{
 "cells": [
  {
   "cell_type": "markdown",
   "metadata": {},
   "source": [
    "# Programming Assignment: \n",
    "## Готовим LDA по рецептам"
   ]
  },
  {
   "cell_type": "markdown",
   "metadata": {},
   "source": [
    "В тематическом моделировании делается предположение о том, что для определения тематики порядок слов в документе не важен; об этом гласит гипотеза «мешка слов». Сегодня мы будем работать с несколько нестандартной для тематического моделирования коллекцией, которую можно назвать «мешком ингредиентов», потому что на состоит из рецептов блюд разных кухонь. Тематические модели ищут слова, которые часто вместе встречаются в документах, и составляют из них темы. Мы попробуем применить эту идею к рецептам и найти кулинарные «темы». Эта коллекция хороша тем, что не требует предобработки. Кроме того, эта задача достаточно наглядно иллюстрирует принцип работы тематических моделей.\n",
    "\n",
    "Потребуются модули *json* и *gensim*. Первый входит в дистрибутив Anaconda, второй можно поставить командой \n",
    "\n",
    "*pip install gensim*\n",
    "\n",
    "ПРИМЕЧАНИЕ: На ноутбуке с процессором Intel Core i7 и тактовой частотой 2400 МГц на построение одной модели уходит менее 10 минут."
   ]
  },
  {
   "cell_type": "markdown",
   "metadata": {},
   "source": [
    "### Загрузка данных"
   ]
  },
  {
   "cell_type": "markdown",
   "metadata": {},
   "source": [
    "Коллекция дана в json-формате: для каждого рецепта известны его id, кухня (cuisine) и список ингредиентов, в него входящих. Загрузить данные можно с помощью модуля json (он входит в дистрибутив Anaconda):"
   ]
  },
  {
   "cell_type": "code",
   "execution_count": 2,
   "metadata": {
    "collapsed": true
   },
   "outputs": [],
   "source": [
    "import json"
   ]
  },
  {
   "cell_type": "code",
   "execution_count": 3,
   "metadata": {
    "collapsed": true
   },
   "outputs": [],
   "source": [
    "with open(\"recipes.json\") as f:\n",
    "    recipes = json.load(f)"
   ]
  },
  {
   "cell_type": "code",
   "execution_count": 4,
   "metadata": {
    "collapsed": false
   },
   "outputs": [
    {
     "name": "stdout",
     "output_type": "stream",
     "text": [
      "{u'cuisine': u'greek', u'id': 10259, u'ingredients': [u'romaine lettuce', u'black olives', u'grape tomatoes', u'garlic', u'pepper', u'purple onion', u'seasoning', u'garbanzo beans', u'feta cheese crumbles']}\n",
      "\n",
      "размер recipes = 39774\n"
     ]
    }
   ],
   "source": [
    "print recipes[0]\n",
    "print '\\n', 'размер recipes =', len(recipes)"
   ]
  },
  {
   "cell_type": "markdown",
   "metadata": {},
   "source": [
    "### Составление корпуса"
   ]
  },
  {
   "cell_type": "code",
   "execution_count": 5,
   "metadata": {
    "collapsed": false
   },
   "outputs": [
    {
     "name": "stderr",
     "output_type": "stream",
     "text": [
      "C:\\ProgramData\\Anaconda2\\lib\\site-packages\\gensim\\utils.py:865: UserWarning: detected Windows; aliasing chunkize to chunkize_serial\n",
      "  warnings.warn(\"detected Windows; aliasing chunkize to chunkize_serial\")\n"
     ]
    }
   ],
   "source": [
    "from gensim import corpora, models\n",
    "import numpy as np"
   ]
  },
  {
   "cell_type": "code",
   "execution_count": 6,
   "metadata": {
    "collapsed": false
   },
   "outputs": [
    {
     "data": {
      "text/plain": [
       "'1.11.3'"
      ]
     },
     "execution_count": 6,
     "metadata": {},
     "output_type": "execute_result"
    }
   ],
   "source": [
    "import numpy\n",
    "numpy.__version__"
   ]
  },
  {
   "cell_type": "markdown",
   "metadata": {},
   "source": [
    "Коллекция небольшая, и целиком помещается в оперативную память. Gensim может работать с такими данными и не требует их сохранения на диск в специальном формате. Для этого коллекция должна быть представлена в виде списка списков, каждый внутренний список соответствует отдельному документу и состоит из его слов. Пример коллекции из двух документов: \n",
    "\n",
    "[[\"hello\", \"world\"], [\"programming\", \"in\", \"python\"]]\n",
    "\n",
    "Преобразуем наши данные в такой формат, а затем создадим объекты corpus и dictionary, с которыми будет работать модель."
   ]
  },
  {
   "cell_type": "code",
   "execution_count": 7,
   "metadata": {
    "collapsed": true
   },
   "outputs": [],
   "source": [
    "texts = [recipe[\"ingredients\"] for recipe in recipes]\n",
    "dictionary = corpora.Dictionary(texts)   # составляем словарь\n",
    "corpus = [dictionary.doc2bow(text) for text in texts]  # составляем корпус документов"
   ]
  },
  {
   "cell_type": "code",
   "execution_count": 8,
   "metadata": {
    "collapsed": false
   },
   "outputs": [
    {
     "name": "stdout",
     "output_type": "stream",
     "text": [
      "[u'romaine lettuce', u'black olives', u'grape tomatoes', u'garlic', u'pepper', u'purple onion', u'seasoning', u'garbanzo beans', u'feta cheese crumbles']\n",
      "[(0, 1), (1, 1), (2, 1), (3, 1), (4, 1), (5, 1), (6, 1), (7, 1), (8, 1)]\n"
     ]
    }
   ],
   "source": [
    "print texts[0]\n",
    "print corpus[0]"
   ]
  },
  {
   "cell_type": "code",
   "execution_count": 9,
   "metadata": {
    "collapsed": false
   },
   "outputs": [
    {
     "name": "stdout",
     "output_type": "stream",
     "text": [
      "Dictionary(6714 unique tokens: [u'low-sodium fat-free chicken broth', u'sweetened coconut', u'baking chocolate', u'egg roll wrappers', u'bottled low sodium salsa']...)\n"
     ]
    }
   ],
   "source": [
    "print dictionary"
   ]
  },
  {
   "cell_type": "code",
   "execution_count": 10,
   "metadata": {
    "collapsed": false
   },
   "outputs": [
    {
     "name": "stdout",
     "output_type": "stream",
     "text": [
      "pepper\n",
      "seasoning\n",
      "garbanzo beans\n",
      "grape tomatoes\n",
      "garlic\n",
      "black olives\n",
      "feta cheese crumbles\n",
      "romaine lettuce\n",
      "purple onion\n"
     ]
    }
   ],
   "source": [
    "for i in range(9):\n",
    "    print dictionary[i]"
   ]
  },
  {
   "cell_type": "code",
   "execution_count": 11,
   "metadata": {
    "collapsed": false
   },
   "outputs": [
    {
     "name": "stdout",
     "output_type": "stream",
     "text": [
      "7\n",
      "5\n",
      "3\n",
      "4\n",
      "0\n",
      "8\n",
      "1\n",
      "2\n",
      "6\n"
     ]
    }
   ],
   "source": [
    "for text in texts[0]:\n",
    "    print dictionary.token2id[text]"
   ]
  },
  {
   "cell_type": "code",
   "execution_count": 12,
   "metadata": {
    "collapsed": false
   },
   "outputs": [
    {
     "name": "stdout",
     "output_type": "stream",
     "text": [
      "Dictionary(6714 unique tokens: [u'low-sodium fat-free chicken broth', u'sweetened coconut', u'baking chocolate', u'egg roll wrappers', u'bottled low sodium salsa']...)\n"
     ]
    }
   ],
   "source": [
    "print dictionary"
   ]
  },
  {
   "cell_type": "markdown",
   "metadata": {},
   "source": [
    "У объекта dictionary есть полезная переменная dictionary.token2id, позволяющая находить соответствие между ингредиентами и их индексами."
   ]
  },
  {
   "cell_type": "code",
   "execution_count": 13,
   "metadata": {
    "collapsed": false
   },
   "outputs": [
    {
     "data": {
      "text/plain": [
       "{u'low-sodium fat-free chicken broth': 3067,\n",
       " u'sweetened coconut': 4351,\n",
       " u'baking chocolate': 4124,\n",
       " u'egg roll wrappers': 197,\n",
       " u'bottled low sodium salsa': 6280,\n",
       " u'vegan parmesan cheese': 1712,\n",
       " u'clam sauce': 5433,\n",
       " u'mahlab': 6168,\n",
       " u'(10 oz.) frozen chopped spinach, thawed and squeezed dry': 1988,\n",
       " u'figs': 1317,\n",
       " u'caramels': 3788,\n",
       " u'broiler': 3467,\n",
       " u'jalapeno chilies': 58,\n",
       " u'(15 oz.) refried beans': 5108,\n",
       " u'brioche buns': 5186,\n",
       " u'broccoli romanesco': 5876,\n",
       " u'flaked oats': 5838,\n",
       " u'anise extract': 2055,\n",
       " u'whole wheat pastry flour': 2193,\n",
       " u'ravva': 1403,\n",
       " u'bacon': 208,\n",
       " u'millet': 3209,\n",
       " u'country crock honey spread': 4572,\n",
       " u'matcha green tea powder': 326,\n",
       " u'chopped fresh thyme': 674,\n",
       " u'chicken gravy mix': 4786,\n",
       " u'walnut oil': 3608,\n",
       " u'Kraft Slim Cut Mozzarella Cheese Slices': 6704,\n",
       " u'fresh angel hair': 3628,\n",
       " u'salsify': 2726,\n",
       " u'galangal': 911,\n",
       " u'chicken schmaltz': 2331,\n",
       " u'butter crackers': 1469,\n",
       " u'jasmine': 2030,\n",
       " u'Bisquick Baking Mix': 3920,\n",
       " u'canned jalapeno peppers': 4088,\n",
       " u'short-grain rice': 631,\n",
       " u'ground cayenne pepper': 1300,\n",
       " u'orange soda': 2859,\n",
       " u'ginseng tea': 2997,\n",
       " u'calamansi juice': 2373,\n",
       " u'butter oil': 3591,\n",
       " u'steel-cut oats': 760,\n",
       " u'chinese buns': 5477,\n",
       " u'boneless ham': 4534,\n",
       " u'chipotle sauce': 3195,\n",
       " u'honey dijon mustard': 6082,\n",
       " u'custard dessert mix': 5580,\n",
       " u'gluten-free broth': 6335,\n",
       " u'thai noodles': 2909,\n",
       " u'ancho chile pepper': 1265,\n",
       " u'salted fish': 5228,\n",
       " u'yellow mustard seeds': 2491,\n",
       " u'yellow split peas': 3089,\n",
       " u'spaghetti sauce seasoning mix': 3558,\n",
       " u'sweet mustard': 3772,\n",
       " u'burger style crumbles': 5567,\n",
       " u'Taco Bell Taco Seasoning Mix': 4838,\n",
       " u'yellow squash': 147,\n",
       " u'kamaboko': 2360,\n",
       " u'Martha White Cornbread Mix': 4416,\n",
       " u'Toulouse sausage': 4763,\n",
       " u'egg roll skins': 5056,\n",
       " u'lemon thyme': 2847,\n",
       " u'whole peppercorn': 3783,\n",
       " u'fat free greek yogurt': 2424,\n",
       " u'shirataki': 2643,\n",
       " u'cooked vegetables': 3098,\n",
       " u'schnapps': 4755,\n",
       " u'mild sausage': 3871,\n",
       " u'chocolate sauce': 1152,\n",
       " u'green beans': 97,\n",
       " u'vegetarian protein crumbles': 3399,\n",
       " u'chicken breast strips': 4130,\n",
       " u'Bertolli Tomato & Basil Sauce': 6482,\n",
       " u'raw pistachios': 4108,\n",
       " u'duck drumsticks': 3445,\n",
       " u'pompano fillets': 4579,\n",
       " u'white creme de cacao': 4603,\n",
       " u'Jarlsberg': 3165,\n",
       " u'gluten flour': 3860,\n",
       " u'brown butter': 6412,\n",
       " u'nonfat dry milk': 4260,\n",
       " u'dried neem leaves': 6522,\n",
       " u'duck bones': 6108,\n",
       " u'chocolate morsels': 544,\n",
       " u'maple extract': 3469,\n",
       " u'minced pork': 2259,\n",
       " u'jaggery': 1036,\n",
       " u'nonfat ricotta cheese': 1618,\n",
       " u'arrowroot powder': 163,\n",
       " u'coconut flakes': 3396,\n",
       " u'rum extract': 512,\n",
       " u'parmigiano-reggiano cheese': 1535,\n",
       " u'wine': 1488,\n",
       " u'dried sardines': 5066,\n",
       " u'frying oil': 3093,\n",
       " u'balsamic vinaigrette salad dressing': 5301,\n",
       " u'roquefort': 1487,\n",
       " u'baby carrots': 554,\n",
       " u'soba noodles': 913,\n",
       " u'radish sprouts': 3265,\n",
       " u'sour mix': 5047,\n",
       " u'yellowfin': 5087,\n",
       " u'beef stew seasoning mix': 5949,\n",
       " u'Kikkoman Oyster Sauce': 6354,\n",
       " u'plantains': 1100,\n",
       " u'pickling liquid': 3939,\n",
       " u'pickled beets': 3526,\n",
       " u'Robert Mondavi Fume Blanc': 4139,\n",
       " u'red food coloring': 1832,\n",
       " u'fennel bulb': 286,\n",
       " u'cool whip': 4281,\n",
       " u'treviso': 3401,\n",
       " u'silver': 3952,\n",
       " u'gluten-free tamari sauce': 6505,\n",
       " u'moroccan seasoning': 4789,\n",
       " u'thyme': 11,\n",
       " u'buckwheat groats': 5456,\n",
       " u'chocolate chunks': 4215,\n",
       " u'frozen limeade': 2043,\n",
       " u'yam bean': 5940,\n",
       " u'red pepper hot sauce': 4312,\n",
       " u'cola-flavored carbonated beverage': 4696,\n",
       " u'fat free cream of mushroom soup': 2735,\n",
       " u'Old El Paso Flour Tortillas': 735,\n",
       " u'cooking spray': 116,\n",
       " u'fettuccine pasta': 1208,\n",
       " u'prune juice': 3383,\n",
       " u'nuoc cham': 4140,\n",
       " u'jamaican jerk rub': 5223,\n",
       " u'chocolate chip cookie mix': 5997,\n",
       " u'pomegranate seeds': 2116,\n",
       " u'McCormick Ground Ginger': 3310,\n",
       " u'shredded Italian cheese': 3610,\n",
       " u'nam pla': 3055,\n",
       " u'oyster mushrooms': 1643,\n",
       " u'grapes': 2732,\n",
       " u'soft corn tortillas': 3119,\n",
       " u'snail shells': 2785,\n",
       " u'japanese eggplants': 1653,\n",
       " u'fresh brussels sprouts': 4059,\n",
       " u'low sodium beef stock': 3592,\n",
       " u'toasted almonds': 1472,\n",
       " u'tzatziki': 1997,\n",
       " u'peasant bread': 1365,\n",
       " u'semisweet chocolate chunks': 5548,\n",
       " u'celery heart': 2957,\n",
       " u'salt water': 3651,\n",
       " u'zinfandel': 649,\n",
       " u'crab sticks': 6454,\n",
       " u'Morton Salt': 4842,\n",
       " u'garlic chives': 2285,\n",
       " u'pink lady apple': 4334,\n",
       " u'process cheese spread': 6349,\n",
       " u'canela': 2476,\n",
       " u'cornflour': 31,\n",
       " u'crusty whole wheat toast': 5604,\n",
       " u'chopped fresh sage': 1209,\n",
       " u'beef shank': 1104,\n",
       " u'wheat bread': 3261,\n",
       " u'japanese rice': 2236,\n",
       " u'red curry paste': 167,\n",
       " u'idli': 1907,\n",
       " u'Crystal Farms Shredded Gouda Cheese': 1312,\n",
       " u'sweet chocolate': 3452,\n",
       " u'lemon juice': 37,\n",
       " u'Country Crock\\xae Spread': 1957,\n",
       " u'asian black bean sauce': 4232,\n",
       " u'poundcake': 3744,\n",
       " u'chunky mild salsa': 4202,\n",
       " u'cactus': 6224,\n",
       " u'bread flour': 1218,\n",
       " u\"Cox's Orange Pippin\": 5914,\n",
       " u'artichoke hearts': 684,\n",
       " u'dark miso': 4342,\n",
       " u'kangkong': 5871,\n",
       " u'flank steak': 109,\n",
       " u'sugarcane': 3387,\n",
       " u'hollandaise sauce': 2809,\n",
       " u'chocolate instant pudding': 620,\n",
       " u'poppy seed dressing': 5825,\n",
       " u'reduced sugar orange marmalade': 6204,\n",
       " u'dried mixed herbs': 2298,\n",
       " u'Pillsbury\\u2122 Crescent Recipe Creations\\xae refrigerated seamless dough sheet': 5756,\n",
       " u'extra large shrimp': 2857,\n",
       " u'taco bell home originals': 3386,\n",
       " u'fresh tofu': 2754,\n",
       " u'rocket leaves': 2048,\n",
       " u'tequila': 852,\n",
       " u'pepper flakes': 1283,\n",
       " u'fennel': 1069,\n",
       " u'california chile': 2829,\n",
       " u'whole grain buns': 6306,\n",
       " u'pecan meal': 2571,\n",
       " u'chaat masala': 1682,\n",
       " u'lipton tea bags': 6170,\n",
       " u'vegan margarine': 981,\n",
       " u'methi leaves': 2190,\n",
       " u'raspberry lambic': 6059,\n",
       " u'filo dough': 4185,\n",
       " u'napa cabbage leaves': 535,\n",
       " u'grated orange peel': 1080,\n",
       " u'red drum': 2627,\n",
       " u'rice': 155,\n",
       " u'fresh orange juice': 1874,\n",
       " u'fresno pepper': 6211,\n",
       " u'Land O Lakes\\xae Butter': 4187,\n",
       " u'chocolate syrup': 2502,\n",
       " u'sweet italian sausag links, cut into': 2458,\n",
       " u'Goya Hot Sauce': 6228,\n",
       " u'cherry vinegar': 6586,\n",
       " u'chutney': 1360,\n",
       " u'Smithfield Ham': 1287,\n",
       " u'spanish rice': 1919,\n",
       " u'greens': 379,\n",
       " u'Accent Seasoning': 3574,\n",
       " u'chinese celery cabbage': 3848,\n",
       " u'dry fettuccine': 5421,\n",
       " u'cooked bone in ham': 5546,\n",
       " u'aged cheddar cheese': 6212,\n",
       " u'earl grey tea bags': 4180,\n",
       " u'laurel leaves': 4294,\n",
       " u'Velveeta': 2640,\n",
       " u'lacinato kale': 3915,\n",
       " u'peeled canned low sodium tomatoes': 6254,\n",
       " u'whipped butter': 3285,\n",
       " u'cuttlefish balls': 2858,\n",
       " u'low fat reduced sodium pasta sauce': 3007,\n",
       " u'ciabatta buns': 4677,\n",
       " u'knorr leek recip mix': 5665,\n",
       " u'dark chicken stock': 2650,\n",
       " u'Bertolli\\xae Alfredo Sauce': 2962,\n",
       " u'capocollo': 4956,\n",
       " u'melissa': 6010,\n",
       " u'cooked turkey': 1651,\n",
       " u'dark turkey meat': 4423,\n",
       " u'wish bone ranch dress': 2768,\n",
       " u'claws': 3402,\n",
       " u'fresh tomato salsa': 1455,\n",
       " u'mentaiko': 6528,\n",
       " u'low sodium crushed tomatoes': 6090,\n",
       " u'Neufch\\xe2tel': 5064,\n",
       " u'japanese style bread crumbs': 5610,\n",
       " u'mahimahi': 2080,\n",
       " u'barbecue sauce': 1167,\n",
       " u'orange segments': 2990,\n",
       " u'uncooked ziti': 3533,\n",
       " u'kirschwasser': 3806,\n",
       " u'barley miso': 5452,\n",
       " u'crumbled gorgonzola': 1329,\n",
       " u'sweet soy': 3457,\n",
       " u'sourdough rolls': 6326,\n",
       " u'low fat mozzarella': 3509,\n",
       " u'raita': 3164,\n",
       " u'nonfat half-and-half': 6393,\n",
       " u'garlic olive oil': 5774,\n",
       " u'canned beef broth': 1142,\n",
       " u'ox tongue': 2674,\n",
       " u'spring roll skins': 2793,\n",
       " u'mizuna': 5314,\n",
       " u'sauterne': 3883,\n",
       " u'sorghum molasses': 4121,\n",
       " u'salt free southwest chipotle seasoning': 6094,\n",
       " u'horseradish': 1196,\n",
       " u'gyoza': 4224,\n",
       " u'shichimi togarashi': 2176,\n",
       " u'grated lemon peel': 1076,\n",
       " u'chili bean sauce': 2075,\n",
       " u'soft shelled crabs': 3502,\n",
       " u'black grapes': 6376,\n",
       " u'barilla piccolini mini': 6408,\n",
       " u'chili': 1043,\n",
       " u'light beer': 4504,\n",
       " u'ground nuts': 6128,\n",
       " u'b\\xe2tarde': 5253,\n",
       " u'hog casings': 2318,\n",
       " u'chopped almonds': 851,\n",
       " u'chestnut spread': 6473,\n",
       " u'celery ribs': 625,\n",
       " u'solid white tuna': 4731,\n",
       " u'curry leaf': 5041,\n",
       " u'granulated white sugar': 2673,\n",
       " u'pot roast': 3991,\n",
       " u'loin pork chops': 5747,\n",
       " u'jamaican rum': 3222,\n",
       " u'chopmeat': 5651,\n",
       " u'short rib': 1303,\n",
       " u'pickapeppa sauce': 317,\n",
       " u'ragu cheesi classic alfredo sauc': 3371,\n",
       " u'beef base': 4134,\n",
       " u'tuna': 947,\n",
       " u'snow peas': 682,\n",
       " u'no-calorie sweetener': 5034,\n",
       " u'carnitas': 3632,\n",
       " u'medium dry sherry': 3015,\n",
       " u'burgers': 1474,\n",
       " u'fideos': 2606,\n",
       " u'fine salt': 1539,\n",
       " u'whole grain bread': 5212,\n",
       " u'yellow curry paste': 1796,\n",
       " u'praline syrup': 6194,\n",
       " u'burro banana': 2918,\n",
       " u'Italian seasoned diced tomatoes': 6242,\n",
       " u'asian wheat noodles': 5152,\n",
       " u'milk chocolate kisses': 6118,\n",
       " u'large flour tortillas': 2800,\n",
       " u'microgreens': 3854,\n",
       " u'alum': 5904,\n",
       " u'ham': 624,\n",
       " u'marshmallow vodka': 3987,\n",
       " u'frozen chopped spinach': 707,\n",
       " u'roast beef': 3489,\n",
       " u'low-fat milk': 946,\n",
       " u'flat cut': 2155,\n",
       " u'acorn squash': 1538,\n",
       " u'egg beaters': 2864,\n",
       " u'ampalaya': 2141,\n",
       " u'soft margarine': 6644,\n",
       " u'english walnuts': 5422,\n",
       " u'umeboshi': 1866,\n",
       " u'color food green': 3039,\n",
       " u'smoked mackerel': 6377,\n",
       " u'grated jack cheese': 595,\n",
       " u'fresh pasta': 4029,\n",
       " u'dende oil': 4715,\n",
       " u'hot spanish paprika': 5726,\n",
       " u'meringue': 2649,\n",
       " u'black peppercorns': 431,\n",
       " u'asakusa nori': 3699,\n",
       " u'fat-trimmed beef flank steak': 1645,\n",
       " u'breakfast sausages': 202,\n",
       " u'shanghai noodles': 1833,\n",
       " u'small new potatoes': 3466,\n",
       " u'boiling potatoes': 936,\n",
       " u'okra': 748,\n",
       " u'Honeysuckle White\\xae Hot Italian Turkey Sausage Links': 6670,\n",
       " u'arborio rice': 555,\n",
       " u'root beer': 4795,\n",
       " u'borage': 3997,\n",
       " u'Hidden Valley\\xae Original Ranch Salad\\xae Dressing & Seasoning Mix': 3899,\n",
       " u'sub buns': 2347,\n",
       " u'fruit juice': 5611,\n",
       " u'buttermilk self-rising white cornmeal mix': 4670,\n",
       " u'low fat mild Italian turkey sausage': 4476,\n",
       " u'flatbread': 2314,\n",
       " u'smoked pork': 4777,\n",
       " u'mochi': 4631,\n",
       " u'cooked steak': 4379,\n",
       " u'baking sugar': 6311,\n",
       " u'homemade stock': 4806,\n",
       " u'soy': 4406,\n",
       " u'goat milk feta': 4336,\n",
       " u'japanese peanuts': 5702,\n",
       " u'shrimp paste': 1544,\n",
       " u'ground almonds': 1772,\n",
       " u'filipino eggplant': 4436,\n",
       " u'flat anchovy': 1909,\n",
       " u'dried prawns': 2490,\n",
       " u'dried cascabel chile': 2338,\n",
       " u'Velveeta Queso Blanco': 4701,\n",
       " u'white onion': 469,\n",
       " u'quatre \\xe9pices': 1530,\n",
       " u'Southern Comfort Liqueur': 4420,\n",
       " u'curly kale': 2088,\n",
       " u'candied pineapple': 4535,\n",
       " u'do chua': 6433,\n",
       " u'panettone': 2364,\n",
       " u'reduced sodium reduced fat cream of mushroom soup': 6606,\n",
       " u'mushroom caps': 1665,\n",
       " u'panela': 6570,\n",
       " u'paprika': 183,\n",
       " u'low sodium low fat vegetable broth': 6275,\n",
       " u'tuna steaks': 939,\n",
       " u'diced onions': 1125,\n",
       " u'free range chicken breasts': 5532,\n",
       " u'butter salt': 4539,\n",
       " u'garland chrysanthemum': 3243,\n",
       " u'sunflower seeds': 4566,\n",
       " u'sprouts': 2093,\n",
       " u'Angostura bitters': 3268,\n",
       " u'gram dal': 4058,\n",
       " u'whipped cream': 1660,\n",
       " u'truffles': 3017,\n",
       " u'Heinz Tomato Ketchup': 4827,\n",
       " u'shaved parmesan cheese': 4238,\n",
       " u'new mexico chile pods': 3484,\n",
       " u'minced garlic': 490,\n",
       " u'bottled lime juice': 5820,\n",
       " u'annatto powder': 2422,\n",
       " u'ground poppy seed': 5670,\n",
       " u'sweet potato vermicelli': 4395,\n",
       " u'pot pie': 4388,\n",
       " u'Chinese egg noodles': 1941,\n",
       " u'flour tortillas (not low fat)': 3518,\n",
       " u'Madeira': 423,\n",
       " u'strip loin': 5894,\n",
       " u'pork cutlets': 3340,\n",
       " u'steak fillets': 3045,\n",
       " u'samphire': 6448,\n",
       " u'candied orange peel': 513,\n",
       " u'duck breasts': 2121,\n",
       " u'Crystal Farms\\xae Shredded Cheddar Cheese': 3358,\n",
       " u'extra large eggs': 1156,\n",
       " u'skate': 5135,\n",
       " u'conchiglie': 6688,\n",
       " u'stevia powder': 5614,\n",
       " u'green chard': 3949,\n",
       " u'softened butter': 417,\n",
       " u'lavender honey': 4160,\n",
       " u'mixed vegetables': 2586,\n",
       " u'blanched almonds': 1704,\n",
       " u'icing': 1709,\n",
       " u'chilli bean sauce': 4949,\n",
       " u'lemon pudding': 5542,\n",
       " u'farro': 2215,\n",
       " u'mooli': 5247,\n",
       " u'buckwheat honey': 5083,\n",
       " u'chicken pan drippings': 5541,\n",
       " u'tangerine juice': 2620,\n",
       " u'teas': 1824,\n",
       " u'Ni\\xe7oise olives': 1387,\n",
       " u'green grape': 3479,\n",
       " u'dried porcini mushrooms': 771,\n",
       " u'oil packed dried tomatoes': 6600,\n",
       " u'havarti cheese': 2929,\n",
       " u'sloe gin': 5859,\n",
       " u'crab meat': 751,\n",
       " u'bay leaves': 252,\n",
       " u'orange blossom honey': 650,\n",
       " u'breasts halves': 2102,\n",
       " u'smoked hog jowl': 5723,\n",
       " u'raw sugar': 2812,\n",
       " u'condensed tomato soup': 2359,\n",
       " u'33% less sodium ham': 5204,\n",
       " u'water chestnuts, drained and chopped': 813,\n",
       " u'celery root': 3339,\n",
       " u'vanilla instant pudding': 3175,\n",
       " u'crumbles': 3213,\n",
       " u'chicken base': 3284,\n",
       " u'pasta shells': 3020,\n",
       " u'cream of chicken soup': 703,\n",
       " u'old-fashioned oats': 1534,\n",
       " u'fresno chiles': 4257,\n",
       " u'marrons': 2890,\n",
       " u'beef for stew': 5116,\n",
       " u'Wish-Bone\\xae Robusto Italian Dressing': 6501,\n",
       " u'sumac powder': 6077,\n",
       " u'Argo Corn Starch': 2593,\n",
       " u'cream sweeten whip': 547,\n",
       " u'pork leg': 4889,\n",
       " u'bacon fat': 2147,\n",
       " u'flounder fillets': 2339,\n",
       " u'snow pea pods': 5705,\n",
       " u'low-fat flour tortillas': 5336,\n",
       " u'papad': 3842,\n",
       " u'refrigerated chocolate chip cookie dough': 4620,\n",
       " u'butternut squash': 779,\n",
       " u'asparagus tips': 1171,\n",
       " u'lamb shanks': 1340,\n",
       " u'leg of lamb': 1023,\n",
       " u'anasazi beans': 3880,\n",
       " u'teleme': 2505,\n",
       " u'frozen whole kernel corn': 986,\n",
       " u'spearmint': 3623,\n",
       " u'cola soft drink': 1603,\n",
       " u'dark beer': 2217,\n",
       " u'tostitos': 5652,\n",
       " u'chinese leaf': 3750,\n",
       " u'baby spinach leaves': 448,\n",
       " u'tiger prawn': 1787,\n",
       " u'powdered milk': 2434,\n",
       " u'salted seaweed': 4353,\n",
       " u'hot Italian sausages': 1416,\n",
       " u'chocolate covered english toffee': 4733,\n",
       " u'pie shell': 1846,\n",
       " u'fleur de sel': 2188,\n",
       " u'unbaked pie crusts': 2536,\n",
       " u'Lipton Lemon Iced Tea Mix': 6514,\n",
       " u'italian eggplant': 1363,\n",
       " u'guanciale': 3499,\n",
       " u'lamb shoulder': 1871,\n",
       " u'snaps': 5953,\n",
       " u'cubed pumpkin': 4279,\n",
       " u'kumquats': 2399,\n",
       " u'yellow mustard': 1067,\n",
       " u'2 1/2 to 3 lb. chicken, cut into serving pieces': 6182,\n",
       " u'phyllo pastry': 3025,\n",
       " u'katsuo dashi': 4885,\n",
       " u'teriyaki marinade': 5945,\n",
       " u'chicken demi-glace': 5860,\n",
       " u'mango': 185,\n",
       " u'chinese wolfberries': 4157,\n",
       " u'pork tongue': 5712,\n",
       " u'masa harina': 1084,\n",
       " u'ground blanched almonds': 3160,\n",
       " u'oat bran': 5176,\n",
       " u'pink grapefruit juice': 2680,\n",
       " u'green tea leaves': 5821,\n",
       " u'thai green curry paste': 587,\n",
       " u'dillweed': 2868,\n",
       " u'reduced sodium beef broth': 3615,\n",
       " u'imitation seafood': 6643,\n",
       " u'red bell pepper': 141,\n",
       " u'powdered sugar icing': 5813,\n",
       " u'red enchilada sauce': 1057,\n",
       " u'ketchup': 916,\n",
       " u'gemelli': 3836,\n",
       " u'chili paste with garlic': 716,\n",
       " u'wagon wheels': 2875,\n",
       " u'arrowroot flour': 5709,\n",
       " u'instant chicken bouillon granules': 4793,\n",
       " u'waffle fries': 5220,\n",
       " u'cooked brisket': 2653,\n",
       " u'turtle': 5419,\n",
       " u'mellow white miso': 6456,\n",
       " u'fish fillets': 1277,\n",
       " u'amaretto': 1471,\n",
       " u'bottom round roast': 4413,\n",
       " u'amaretti': 1504,\n",
       " u'savoy cabbage': 752,\n",
       " u'center-cut salmon fillet': 3667,\n",
       " u'linguini': 2205,\n",
       " u'hoagie buns': 1132,\n",
       " u'orange marmalade': 1980,\n",
       " u'linguine': 173,\n",
       " u'low fat part skim ricotta chees': 6062,\n",
       " u'medium cheddar cheese': 4900,\n",
       " u'dulong': 5965,\n",
       " u'mini phyllo dough shells': 2384,\n",
       " u'coconut oil': 678,\n",
       " u'cabbage leaves': 2612,\n",
       " u'jasmine rice': 362,\n",
       " u'sweet pepper': 80,\n",
       " u'green papaya': 222,\n",
       " u'red swiss chard': 4490,\n",
       " u'date sugar': 2602,\n",
       " u'frozen garden peas': 6071,\n",
       " u'boneless skin on chicken thighs': 5534,\n",
       " u'smoked paprika': 874,\n",
       " u'pasta wagon wheel': 3627,\n",
       " u'low-fat cheddar': 3232,\n",
       " u'ground sausage': 2638,\n",
       " u'low fat cream': 4000,\n",
       " u'malted milk powder': 4415,\n",
       " u'large egg yolks': 365,\n",
       " u'low sodium canned chicken stock': 2971,\n",
       " u'butter extract': 5434,\n",
       " u'hot smoked paprika': 4368,\n",
       " u'old bay seasoning': 292,\n",
       " u'ascorbic acid': 4945,\n",
       " u'nonfat buttermilk': 2567,\n",
       " u'condensed french onion soup': 3298,\n",
       " u'Success White Rice': 6549,\n",
       " u'(   oz.) tomato paste': 3073,\n",
       " u'candied ginger': 5060,\n",
       " u'chuck short ribs': 3382,\n",
       " u'brown gravy': 5160,\n",
       " u'frozen lima beans': 2508,\n",
       " u'dipping chocolate': 6127,\n",
       " u'low-fat sour cream': 336,\n",
       " u'toasted nuts': 2522,\n",
       " u'iceberg': 4231,\n",
       " u'pitted black olives': 1912,\n",
       " u'gluten-free breadcrumbs': 3990,\n",
       " u'breadstick': 2821,\n",
       " u'whole wheat lasagna noodles': 1466,\n",
       " u'green lentil': 1809,\n",
       " u'madeira wine': 5790,\n",
       " u'herb dressing': 5533,\n",
       " u'ammonium bicarbonate': 4920,\n",
       " u'turkey broth': 1649,\n",
       " u'Sangiovese': 6185,\n",
       " u'Sargento\\xae Traditional Cut Shredded 4 Cheese Mexican': 4886,\n",
       " u'sugar substitute': 4594,\n",
       " u'red pepper': 166,\n",
       " u'italian pork sausage': 4241,\n",
       " u'vegetable demi-glace': 5019,\n",
       " u'coconut cream': 1127,\n",
       " u'chicken wingettes': 4732,\n",
       " u'cherry peppers': 2678,\n",
       " u'havarti': 4589,\n",
       " u'braggs liquid aminos': 5691,\n",
       " u'strawberry preserves': 3325,\n",
       " u'stewing beef': 1739,\n",
       " u'KRAFT Mexican Style Finely Shredded Four Cheese': 3455,\n",
       " u'carnaroli rice': 2739,\n",
       " u'apple pie spice': 2668,\n",
       " u'deviled ham': 5667,\n",
       " u'crushed red pepper': 307,\n",
       " u'cane vinegar': 2341,\n",
       " u'lemon slices': 1253,\n",
       " u'oloroso sherry': 3797,\n",
       " u'Adobo All Purpose Seasoning': 3549,\n",
       " u'salt': 17,\n",
       " u'royal olives': 4385,\n",
       " u'banger': 3955,\n",
       " u'Lipton Sparkling Diet Green Tea with Strawberry Kiwi': 5249,\n",
       " u'sesame oil': 95,\n",
       " u'flowering chives': 5112,\n",
       " u'calamari': 4255,\n",
       " u'gluten free corn tortillas': 1594,\n",
       " u'key lime': 4472,\n",
       " u'Jamaican allspice': 4859,\n",
       " u'raspberry sauce': 5386,\n",
       " u'Mexican oregano': 1604,\n",
       " u'semi sweet mini chocolate chips': 6424,\n",
       " u'egg roll wraps': 1308,\n",
       " u'organic cane sugar': 3516,\n",
       " u'wholemeal flour': 4158,\n",
       " u'tofu puffs': 4207,\n",
       " u'salmon roe': 2371,\n",
       " u'nori flakes': 2130,\n",
       " u'brown rice spaghetti': 6248,\n",
       " u'crumb topping': 4770,\n",
       " u'duck sauce': 5449,\n",
       " u'shredded romano cheese': 5140,\n",
       " u'dried rigatoni': 6157,\n",
       " u'Neapolitan ice cream': 2194,\n",
       " u'chopped green chilies': 804,\n",
       " u'bean curd': 4765,\n",
       " u'ginger piece': 3886,\n",
       " u'blade steak': 4135,\n",
       " u'eye of round steak': 4133,\n",
       " u'minute steaks': 2683,\n",
       " u'single malt Scotch': 5149,\n",
       " u'garlic pepper blend': 6529,\n",
       " u'sweet potato starch': 4874,\n",
       " u'mutton': 2903,\n",
       " u'cornflake cereal': 1628,\n",
       " u'pea pods': 3707,\n",
       " u'cauliflower flowerets': 935,\n",
       " u'sourdough starter': 6296,\n",
       " u'2% low fat cheddar chees': 5861,\n",
       " u'calvados': 1949,\n",
       " u'edamame': 1302,\n",
       " u'cantaloupe': 1875,\n",
       " u'salted anchovies': 6179,\n",
       " u'bosc pears': 1285,\n",
       " u'shrimp tails': 2104,\n",
       " u'Yoplait\\xae Greek 100 blackberry pie yogurt': 3447,\n",
       " u'pickled jalapenos': 696,\n",
       " u'cole slaw mix': 5384,\n",
       " u'hot bean paste': 871,\n",
       " u'asti spumante': 6023,\n",
       " u'tamarind juice': 2728,\n",
       " u'extra-virgin olive oil': 79,\n",
       " u'sodium reduced chicken broth': 5344,\n",
       " u'vital wheat gluten': 5363,\n",
       " u'chorizo': 817,\n",
       " u'low-fat cottage cheese': 1465,\n",
       " u'steak seasoning': 4179,\n",
       " u'maldon sea salt': 1609,\n",
       " u'carp': 6623,\n",
       " u'ice water': 1172,\n",
       " u'tortellini, cook and drain': 6432,\n",
       " u'french style sandwich rolls': 6430,\n",
       " u'tuna in oil': 4673,\n",
       " u'black walnut': 2874,\n",
       " u'vegan yogurt': 4663,\n",
       " u'boar': 3422,\n",
       " u'cura\\xe7ao': 3320,\n",
       " u'hot sausage': 4186,\n",
       " u'red quinoa': 6239,\n",
       " u'sherry vinegar': 418,\n",
       " u'unsweetened vanilla almond milk': 3967,\n",
       " u'prosciutto fat': 6510,\n",
       " u'artichokes': 1173,\n",
       " u'Mizkan Oigatsuo Tsuyu Soup Base': 4223,\n",
       " u'japanese radish': 6375,\n",
       " u'nigella seeds': 2083,\n",
       " u'cake mix': 3932,\n",
       " u'fresh flounder fillets': 3934,\n",
       " u'roasted cashews': 2483,\n",
       " u'sablefish': 1667,\n",
       " u'artichok heart marin': 2206,\n",
       " u'prepar salsa': 1900,\n",
       " u'caramel ice cream': 3822,\n",
       " u'cooked fettuccini': 5492,\n",
       " u'white button mushrooms': 3468,\n",
       " u'Massaman curry paste': 3820,\n",
       " u'agar agar flakes': 4821,\n",
       " u'red kidney beans': 1024,\n",
       " u'thyme leaves': 977,\n",
       " u'steel-cut oatmeal': 5742,\n",
       " u'spiced rum': 1622,\n",
       " u'elbow macaroni': 1562,\n",
       " u'sandwich bread': 4146,\n",
       " u'cooking sherry': 2887,\n",
       " u'sliced salami': 2478,\n",
       " u'twists': 5482,\n",
       " u'frozen lemonade concentrate': 2731,\n",
       " u'side pork': 2938,\n",
       " u'casings': 4464,\n",
       " u'compressed yeast': 5105,\n",
       " u'Knorr\\xae Beef Bouillon': 2174,\n",
       " u'fresh lime': 948,\n",
       " u'cake mix or white yellow': 5776,\n",
       " u'sucralose sweetener': 5408,\n",
       " u'chopped celery': 501,\n",
       " u'Soy Vay\\xae Hoisin Garlic Marinade & Sauce': 6085,\n",
       " u'low sodium worcestershire sauce': 2886,\n",
       " u'poultry seasoning': 1367,\n",
       " u'caponata': 2941,\n",
       " u'dinosaur kale': 5615,\n",
       " u'gumbo file powder': 5293,\n",
       " u'remoulade': 3475,\n",
       " u'black bean stir fry sauce': 5926,\n",
       " u'Elmlea single': 4742,\n",
       " u'spaghetti, cook and drain': 3605,\n",
       " u'veal': 2112,\n",
       " u'peach nectar': 2730,\n",
       " u'Lipton\\xae Recipe Secrets\\xae Onion Soup Mix': 4867,\n",
       " u'dr. pepper': 5218,\n",
       " u'adzuki beans': 2529,\n",
       " u'bacon rind': 1608,\n",
       " u'raw cane sugar': 3731,\n",
       " u'steamer': 1408,\n",
       " u'cilantro': 839,\n",
       " u'fresh veget': 715,\n",
       " u'fromage blanc': 1593,\n",
       " u'coffee beans': 980,\n",
       " u'Barilla Oven-Ready Lasagne': 3373,\n",
       " u'Tabasco Pepper Sauce': 1274,\n",
       " u'double crust': 6040,\n",
       " u'endive': 3575,\n",
       " u'rice milk': 6658,\n",
       " u'lemon dressing': 3674,\n",
       " u'basil mayonnaise': 3188,\n",
       " u'jerk sauce': 3837,\n",
       " u'whole wheat berries': 5989,\n",
       " u'crostini': 3764,\n",
       " u'turkey breast deli meat': 6300,\n",
       " u'nondairy whipped topping': 6171,\n",
       " u'strawberry gelatin': 5815,\n",
       " u'pumpkin pie spice': 2069,\n",
       " u'nonstick spray': 670,\n",
       " u'chicken chorizo sausages': 3940,\n",
       " u'breadfruit': 5696,\n",
       " u'anise seed': 1584,\n",
       " u'crusty loaf': 3614,\n",
       " u'mojo marinade': 4611,\n",
       " u'clementine juice': 6058,\n",
       " u'lobster': 2046,\n",
       " u'reduced fat ricotta cheese': 3191,\n",
       " u'pork blood': 2327,\n",
       " u'muscovado sugar': 2218,\n",
       " u'apricot jam': 3159,\n",
       " u'chile pepper': 186,\n",
       " u'foie gras terrine': 4636,\n",
       " u'reduced-fat sour cream': 1837,\n",
       " u'zest': 3207,\n",
       " u'ground fennel': 2760,\n",
       " u'onion salt': 2537,\n",
       " u'Hatch Green Chiles': 1511,\n",
       " u'low sodium tomato sauce': 3843,\n",
       " u'yoghurt natural low fat': 5782,\n",
       " u'piloncillo': 542,\n",
       " u'barley flour': 3072,\n",
       " u'sliced mango': 3412,\n",
       " u'prepared guacamole': 4082,\n",
       " u'La Victoria Red Chile Sauce': 6081,\n",
       " u'dark rum': 570,\n",
       " u'table syrup': 5607,\n",
       " u'fermented black beans': 2024,\n",
       " u'low sodium store bought chicken stock': 4325,\n",
       " u'pak choi': 4484,\n",
       " u'vegetarian chicken': 5561,\n",
       " u'pastry cream': 1587,\n",
       " u'asian pear': 658,\n",
       " u'rub seasoning': 6292,\n",
       " u'low-fat canned coconut milk': 6105,\n",
       " u'buttercup squash': 5372,\n",
       " u'quickcooking grits': 301,\n",
       " u'sundae syrup': 4265,\n",
       " u'tahini paste': 1606,\n",
       " u'chicharron': 5490,\n",
       " u'hen': 5959,\n",
       " u'pansies': 5563,\n",
       " u'carne asada': 5494,\n",
       " u'cake batter': 5219,\n",
       " u'ground sichuan pepper': 2559,\n",
       " u'laksa paste': 5935,\n",
       " u'red potato': 514,\n",
       " u'rusk': 4554,\n",
       " u'chicken and rice soup': 6622,\n",
       " u'Sicilian olives': 1364,\n",
       " u'tripe': 1759,\n",
       " u'cipollini': 5979,\n",
       " u'ragu': 3361,\n",
       " u'dri leav thyme': 846,\n",
       " u'pinot blanc': 2499,\n",
       " u'daikon': 574,\n",
       " u'spaghettini': 2342,\n",
       " u'sea scallops': 1060,\n",
       " u'nacho cheese tortilla chips': 4735,\n",
       " u'cream': 876,\n",
       " u'coffee ice cream': 445,\n",
       " u'curry powder': 273,\n",
       " u'tagliatelle': 3142,\n",
       " u'branzino': 2376,\n",
       " u'sesame seeds buns': 5294,\n",
       " u'pork shoulder boston butt': 2842,\n",
       " u'tarragon vinegar': 3088,\n",
       " u'tricolor quinoa': 5342,\n",
       " u'bocconcini': 2948,\n",
       " u'masa': 1266,\n",
       " u'mini cucumbers': 1119,\n",
       " u'coconut syrup': 6571,\n",
       " u'chocolate cake mix': 3301,\n",
       " u'curly leaf spinach': 2482,\n",
       " u'petite peas': 1439,\n",
       " u'dri basil leaves, crush': 6141,\n",
       " u'Louisiana Hot Sauce': 2123,\n",
       " u'Gourmet Garden Parsley': 6103,\n",
       " u'puff paste': 6684,\n",
       " u'sesame paste': 1034,\n",
       " u'Chinese rose wine': 3034,\n",
       " u'ginger paste': 895,\n",
       " u'salted roast peanuts': 1071,\n",
       " u'veal shoulder': 4567,\n",
       " u'dressing': 1047,\n",
       " u'valencia rice': 3922,\n",
       " u'nori': 1178,\n",
       " u'ditalini pasta': 2005,\n",
       " u'sour salt': 5834,\n",
       " u'cr\\xe8me de cassis': 2936,\n",
       " u'canned salmon': 4676,\n",
       " u'baton': 1854,\n",
       " u'shrimp and crab boil seasoning': 778,\n",
       " u'minced meat': 3617,\n",
       " u'Italian seasoned panko bread crumbs': 5349,\n",
       " u'chip plain tortilla': 4328,\n",
       " u'slider rolls': 6334,\n",
       " u'refrigerated crescent rolls': 1054,\n",
       " u\"tony chachere's seasoning\": 5851,\n",
       " u'jambalaya mix': 5177,\n",
       " u'gluten-free oat': 5081,\n",
       " u'eating apple': 4674,\n",
       " u'prosciutto': 970,\n",
       " u'great northern beans': 239,\n",
       " u'crema mexican': 2656,\n",
       " u'saffron threads': 827,\n",
       " u'hot red pepper flakes': 105,\n",
       " u'clam juice': 1863,\n",
       " u'chile con queso': 3204,\n",
       " u'baking mix': 1368,\n",
       " u'thai chile': 702,\n",
       " u'whole wheat dough': 5272,\n",
       " u'pandan essence': 6388,\n",
       " u'fresh mint': 864,\n",
       " u'huckleberries': 6621,\n",
       " u'Stonefire Tandoori Garlic Naan': 6640,\n",
       " u'cajun-creole seasoning mix': 5925,\n",
       " u'jumbo macaroni shells': 4234,\n",
       " u'burgundy': 4856,\n",
       " u'black bass': 5754,\n",
       " u'puff pastry sheets': 4359,\n",
       " u'lady apples': 6042,\n",
       " u'Boston lettuce': 888,\n",
       " u'brie cheese': 1115,\n",
       " u'baking apples': 799,\n",
       " u'chicken stock cubes': 2393,\n",
       " u'boneless center cut pork chops': 1003,\n",
       " u'skim milk': 638,\n",
       " u'abura age': 4530,\n",
       " u'veal breast': 4864,\n",
       " u'anchovy filets': 5040,\n",
       " u'miniature semisweet chocolate chips': 4519,\n",
       " u'low-fat cheese': 4508,\n",
       " u'boneless beef roast': 1688,\n",
       " u'sherbet': 6148,\n",
       " u'crushed pistachio': 5831,\n",
       " u'asian rice noodles': 4040,\n",
       " u'crab claws': 4349,\n",
       " u'light molasses': 2832,\n",
       " u'chestnut mushrooms': 1951,\n",
       " u'pork baby back ribs': 1621,\n",
       " u'Diamond Crystal\\xae Kosher Salt': 5460,\n",
       " u'pears': 833,\n",
       " u'pollock': 4595,\n",
       " u'unsalted dry roast peanuts': 1065,\n",
       " u'chorizo spanish': 572,\n",
       " u'reposado': 4013,\n",
       " u'boneless pork shoulder roast': 2501,\n",
       " u'Kikkoman Less Sodium Soy Sauce': 6355,\n",
       " u'beef boneless meat stew': 6298,\n",
       " u'king salmon': 5650,\n",
       " u'stilton cheese': 3424,\n",
       " u'chocolate fudge ice cream': 5564,\n",
       " u'dried currants': 505,\n",
       " u'Holland House White Wine Vinegar': 6647,\n",
       " u'soft taco size flour tortillas': 4171,\n",
       " u'corned beef': 1510,\n",
       " u'baby potatoes': 537,\n",
       " u'melted butter': 324,\n",
       " u'tenderloin roast': 1328,\n",
       " u'frozen blueberries': 1294,\n",
       " u'chocolate milk': 6014,\n",
       " u'small red potato': 942,\n",
       " u'key lime juice': 2025,\n",
       " u'shredded zucchini': 2035,\n",
       " u'beef stew': 1434,\n",
       " u'cholesterol free egg substitute': 6707,\n",
       " u'reduced fat provolone cheese': 3782,\n",
       " u'cheese cubes': 4523,\n",
       " u'shahi jeera': 2904,\n",
       " u'green olives': 1607,\n",
       " u'boneless skinless chicken breasts': 798,\n",
       " u'sliced olives': 2688,\n",
       " u'potato flakes': 4014,\n",
       " u'asian dressing': 6284,\n",
       " u'patis': 3663,\n",
       " u'chocolate covered coffee beans': 545,\n",
       " u\"Best Food's Mayonnaise with Lime Juice\": 3985,\n",
       " u'tentacles': 4177,\n",
       " u'arrow root': 5677,\n",
       " u'crumb crust': 4276,\n",
       " u'ajinomoto': 3914,\n",
       " u'lavash': 5325,\n",
       " u'coffee granules': 1760,\n",
       " u'chicken bouillon': 713,\n",
       " u'sliced pears': 3810,\n",
       " u'turkey ham': 5697,\n",
       " u'lean ground meat': 3680,\n",
       " u'rotel tomatoes': 1753,\n",
       " u'baby beets': 1543,\n",
       " u'fresh orange': 4468,\n",
       " u'gingersnap cookies': 4495,\n",
       " u'kirby cucumbers': 2162,\n",
       " u'sauce': 275,\n",
       " u'hot chili oil': 2750,\n",
       " u'wasabe': 4470,\n",
       " u'lower sodium chicken broth': 1292,\n",
       " u'ground red pepper': 206,\n",
       " u'porridge oats': 4454,\n",
       " u'wasabi': 849,\n",
       " u'roasted chestnuts': 1394,\n",
       " u'stuffing mix': 2604,\n",
       " u'rice bran oil': 2175,\n",
       " u'33% less sodium smoked fully cooked ham': 5644,\n",
       " u'flaxseed': 3686,\n",
       " u'truffle puree': 5862,\n",
       " u'ground thyme': 1359,\n",
       " u'crispy rice cereal': 3802,\n",
       " u'boneless pork loin': 355,\n",
       " u'Alexia Waffle Fries': 5573,\n",
       " u'whole wheat couscous': 3748,\n",
       " u'dried rice noodles': 1361,\n",
       " u'awase miso': 4936,\n",
       " u'fried rice': 2288,\n",
       " u'thai jasmine rice': 4326,\n",
       " u'cranberry sauce': 738,\n",
       " u'Ragu Sauce': 4428,\n",
       " u'vegetarian refried beans': 2062,\n",
       " u'cooked shrimp': 971,\n",
       " u'yellow peas': 4903,\n",
       " u'mora chiles': 5194,\n",
       " u'apricot preserves': 1220,\n",
       " u'mushroom soy sauce': 1896,\n",
       " u'andouille sausage links': 1138,\n",
       " u'chile bean paste': 1582,\n",
       " u'blackberry jam': 4881,\n",
       " u'baby leaf lettuce': 4322,\n",
       " u'branzino fillets': 1161,\n",
       " u'spinach': 124,\n",
       " u'mixed seafood': 2898,\n",
       " u'lady fingers': 4062,\n",
       " u'sesame salt': 1223,\n",
       " u'agave tequila': 5291,\n",
       " u'dark corn syrup': 1768,\n",
       " u'veal kidneys': 3612,\n",
       " u'pickling salt': 2250,\n",
       " u'low sodium chicken stock': 1993,\n",
       " u'refrigerated seamless crescent dough': 5927,\n",
       " u'rapid rise yeast': 3150,\n",
       " u'minced ginger': 1081,\n",
       " u'whole wheat thin italian pizza crust': 5523,\n",
       " u'hots': 6080,\n",
       " u'garlic oil': 3723,\n",
       " u'chopped nuts': 915,\n",
       " u'mcintosh apples': 5380,\n",
       " u'vidalia': 968,\n",
       " u'fresh thyme leaves': 960,\n",
       " u'gochugaru': 3272,\n",
       " u'grated coconut': 1937,\n",
       " u'poppy seeds': 1703,\n",
       " u'reduced sodium smoked ham': 6369,\n",
       " u'pasta rotel': 1268,\n",
       " u'ragu old world style sweet tomato basil pasta sauc': 5169,\n",
       " u'tortellini': 2415,\n",
       " u'masur dal': 3217,\n",
       " u'filet mignon': 4381,\n",
       " u'skinless snapper fillets': 6630,\n",
       " u'yellow bell pepper': 523,\n",
       " u'pita bread rounds': 689,\n",
       " u'whole wheat spaghetti': 1810,\n",
       " u'spaghetti': 193,\n",
       " u'mian': 6437,\n",
       " u'bow-tie pasta': 1445,\n",
       " ...}"
      ]
     },
     "execution_count": 13,
     "metadata": {},
     "output_type": "execute_result"
    }
   ],
   "source": [
    "dictionary.token2id"
   ]
  },
  {
   "cell_type": "code",
   "execution_count": 14,
   "metadata": {
    "collapsed": false
   },
   "outputs": [
    {
     "data": {
      "text/plain": [
       "7"
      ]
     },
     "execution_count": 14,
     "metadata": {},
     "output_type": "execute_result"
    }
   ],
   "source": [
    "dictionary.token2id['romaine lettuce']"
   ]
  },
  {
   "cell_type": "code",
   "execution_count": 15,
   "metadata": {
    "collapsed": false
   },
   "outputs": [
    {
     "data": {
      "text/plain": [
       "u'romaine lettuce'"
      ]
     },
     "execution_count": 15,
     "metadata": {},
     "output_type": "execute_result"
    }
   ],
   "source": [
    "dictionary.id2token[7]"
   ]
  },
  {
   "cell_type": "markdown",
   "metadata": {},
   "source": [
    "### Обучение модели\n",
    " [документация](https://radimrehurek.com/gensim/models/ldamodel.html) LDA в gensim."
   ]
  },
  {
   "cell_type": "markdown",
   "metadata": {},
   "source": [
    "__1.__ Обучим модель LDA с 40 темами, установив количество проходов по коллекции 5 и оставив остальные параметры по умолчанию. \n",
    "\n",
    "\n",
    "Затем вызовем метод модели *show_topics*, указав количество тем 40 и количество токенов 10, и сохраним результат (топы ингредиентов в темах) в отдельную переменную. Если при вызове метода *show_topics* указать параметр *formatted=True*, то топы ингредиентов будет удобно выводить на печать, если *formatted=False*, будет удобно работать со списком программно. \n",
    "\n",
    "Ответим на вопрос: Сколько раз ингредиенты \"salt\", \"sugar\", \"water\", \"mushrooms\", \"chicken\", \"eggs\" встретились среди топов-10 всех 40 тем? При ответе __не нужно__ учитывать составные ингредиенты, например, \"hot water\".\n",
    "\n",
    "Запишем ответ."
   ]
  },
  {
   "cell_type": "code",
   "execution_count": 16,
   "metadata": {
    "collapsed": false
   },
   "outputs": [
    {
     "name": "stdout",
     "output_type": "stream",
     "text": [
      "Wall time: 5min 35s\n"
     ]
    }
   ],
   "source": [
    "%%time\n",
    "np.random.seed(76543)\n",
    "# здесь код для построения модели:\n",
    "\n",
    "lda = models.ldamodel.LdaModel(corpus, num_topics=40, passes=5)"
   ]
  },
  {
   "cell_type": "code",
   "execution_count": 17,
   "metadata": {
    "collapsed": false
   },
   "outputs": [
    {
     "data": {
      "text/plain": [
       "[(0,\n",
       "  '0.083*\"17\" + 0.080*\"116\" + 0.079*\"100\" + 0.064*\"54\" + 0.064*\"279\" + 0.035*\"119\" + 0.034*\"307\" + 0.034*\"29\" + 0.033*\"38\" + 0.032*\"12\"'),\n",
       " (1,\n",
       "  '0.130*\"195\" + 0.077*\"45\" + 0.052*\"178\" + 0.043*\"124\" + 0.040*\"211\" + 0.039*\"29\" + 0.037*\"958\" + 0.031*\"705\" + 0.029*\"17\" + 0.026*\"1493\"'),\n",
       " (2,\n",
       "  '0.066*\"770\" + 0.047*\"830\" + 0.046*\"1338\" + 0.045*\"480\" + 0.044*\"3\" + 0.039*\"1637\" + 0.035*\"816\" + 0.033*\"806\" + 0.030*\"117\" + 0.030*\"1201\"'),\n",
       " (3,\n",
       "  '0.117*\"41\" + 0.112*\"207\" + 0.081*\"17\" + 0.050*\"383\" + 0.049*\"0\" + 0.048*\"45\" + 0.046*\"155\" + 0.030*\"29\" + 0.029*\"425\" + 0.029*\"397\"'),\n",
       " (4,\n",
       "  '0.061*\"200\" + 0.057*\"20\" + 0.055*\"17\" + 0.054*\"39\" + 0.039*\"45\" + 0.034*\"348\" + 0.032*\"183\" + 0.030*\"236\" + 0.027*\"216\" + 0.026*\"12\"'),\n",
       " (5,\n",
       "  '0.073*\"46\" + 0.053*\"17\" + 0.048*\"113\" + 0.041*\"183\" + 0.038*\"54\" + 0.035*\"45\" + 0.033*\"4\" + 0.023*\"39\" + 0.022*\"100\" + 0.020*\"127\"'),\n",
       " (6,\n",
       "  '0.113*\"51\" + 0.087*\"366\" + 0.056*\"310\" + 0.052*\"494\" + 0.048*\"387\" + 0.046*\"541\" + 0.034*\"373\" + 0.033*\"249\" + 0.031*\"52\" + 0.030*\"511\"'),\n",
       " (7,\n",
       "  '0.082*\"557\" + 0.078*\"76\" + 0.078*\"112\" + 0.075*\"54\" + 0.046*\"17\" + 0.045*\"358\" + 0.033*\"100\" + 0.031*\"190\" + 0.028*\"193\" + 0.028*\"141\"'),\n",
       " (8,\n",
       "  '0.089*\"23\" + 0.059*\"471\" + 0.057*\"17\" + 0.057*\"456\" + 0.051*\"29\" + 0.049*\"352\" + 0.041*\"1286\" + 0.033*\"1090\" + 0.027*\"1255\" + 0.026*\"1040\"'),\n",
       " (9,\n",
       "  '0.075*\"83\" + 0.074*\"45\" + 0.065*\"4\" + 0.058*\"478\" + 0.055*\"17\" + 0.053*\"229\" + 0.050*\"321\" + 0.041*\"230\" + 0.040*\"345\" + 0.036*\"54\"'),\n",
       " (10,\n",
       "  '0.040*\"12\" + 0.038*\"990\" + 0.037*\"204\" + 0.037*\"504\" + 0.032*\"114\" + 0.032*\"21\" + 0.029*\"514\" + 0.028*\"624\" + 0.025*\"17\" + 0.025*\"117\"'),\n",
       " (11,\n",
       "  '0.066*\"58\" + 0.064*\"17\" + 0.049*\"110\" + 0.040*\"74\" + 0.034*\"4\" + 0.034*\"8\" + 0.033*\"54\" + 0.032*\"839\" + 0.031*\"111\" + 0.029*\"46\"'),\n",
       " (12,\n",
       "  '0.102*\"536\" + 0.068*\"569\" + 0.047*\"1044\" + 0.044*\"530\" + 0.039*\"7\" + 0.038*\"1743\" + 0.036*\"600\" + 0.033*\"876\" + 0.031*\"8\" + 0.029*\"1043\"'),\n",
       " (13,\n",
       "  '0.083*\"272\" + 0.056*\"577\" + 0.049*\"246\" + 0.047*\"201\" + 0.038*\"520\" + 0.038*\"33\" + 0.033*\"231\" + 0.030*\"46\" + 0.024*\"69\" + 0.024*\"71\"'),\n",
       " (14,\n",
       "  '0.074*\"432\" + 0.065*\"128\" + 0.051*\"431\" + 0.048*\"228\" + 0.046*\"524\" + 0.043*\"864\" + 0.043*\"48\" + 0.036*\"622\" + 0.036*\"29\" + 0.028*\"819\"'),\n",
       " (15,\n",
       "  '0.091*\"318\" + 0.078*\"275\" + 0.060*\"949\" + 0.058*\"205\" + 0.033*\"496\" + 0.031*\"48\" + 0.030*\"756\" + 0.027*\"385\" + 0.026*\"1607\" + 0.024*\"1020\"'),\n",
       " (16,\n",
       "  '0.100*\"79\" + 0.060*\"100\" + 0.050*\"54\" + 0.047*\"59\" + 0.040*\"250\" + 0.038*\"17\" + 0.037*\"309\" + 0.037*\"106\" + 0.032*\"251\" + 0.030*\"12\"'),\n",
       " (17,\n",
       "  '0.122*\"357\" + 0.050*\"313\" + 0.046*\"237\" + 0.043*\"4\" + 0.040*\"11\" + 0.037*\"45\" + 0.033*\"62\" + 0.031*\"242\" + 0.029*\"678\" + 0.026*\"17\"'),\n",
       " (18,\n",
       "  '0.104*\"17\" + 0.093*\"117\" + 0.086*\"13\" + 0.085*\"18\" + 0.071*\"21\" + 0.055*\"49\" + 0.049*\"48\" + 0.037*\"63\" + 0.034*\"311\" + 0.030*\"289\"'),\n",
       " (19,\n",
       "  '0.140*\"273\" + 0.074*\"556\" + 0.067*\"534\" + 0.055*\"405\" + 0.048*\"132\" + 0.039*\"247\" + 0.038*\"578\" + 0.033*\"473\" + 0.027*\"1300\" + 0.024*\"1848\"'),\n",
       " (20,\n",
       "  '0.041*\"212\" + 0.034*\"150\" + 0.033*\"386\" + 0.030*\"153\" + 0.030*\"56\" + 0.029*\"223\" + 0.028*\"177\" + 0.027*\"668\" + 0.024*\"198\" + 0.024*\"1081\"'),\n",
       " (21,\n",
       "  '0.114*\"681\" + 0.105*\"328\" + 0.066*\"16\" + 0.061*\"25\" + 0.059*\"437\" + 0.043*\"329\" + 0.041*\"490\" + 0.035*\"502\" + 0.031*\"1400\" + 0.027*\"916\"'),\n",
       " (22,\n",
       "  '0.076*\"1125\" + 0.052*\"1242\" + 0.051*\"415\" + 0.046*\"86\" + 0.039*\"858\" + 0.030*\"70\" + 0.027*\"579\" + 0.025*\"797\" + 0.025*\"969\" + 0.024*\"757\"'),\n",
       " (23,\n",
       "  '0.183*\"37\" + 0.085*\"376\" + 0.052*\"232\" + 0.042*\"89\" + 0.042*\"1004\" + 0.040*\"1874\" + 0.039*\"1170\" + 0.029*\"822\" + 0.029*\"25\" + 0.028*\"274\"'),\n",
       " (24,\n",
       "  '0.076*\"302\" + 0.067*\"48\" + 0.065*\"1078\" + 0.061*\"774\" + 0.056*\"446\" + 0.039*\"452\" + 0.037*\"1348\" + 0.034*\"1218\" + 0.027*\"2029\" + 0.027*\"29\"'),\n",
       " (25,\n",
       "  '0.067*\"17\" + 0.061*\"276\" + 0.054*\"45\" + 0.044*\"346\" + 0.043*\"44\" + 0.040*\"22\" + 0.033*\"33\" + 0.031*\"19\" + 0.029*\"41\" + 0.028*\"645\"'),\n",
       " (26,\n",
       "  '0.084*\"223\" + 0.048*\"57\" + 0.042*\"48\" + 0.037*\"108\" + 0.036*\"4\" + 0.032*\"9\" + 0.032*\"343\" + 0.031*\"43\" + 0.028*\"29\" + 0.028*\"125\"'),\n",
       " (27,\n",
       "  '0.104*\"190\" + 0.057*\"396\" + 0.054*\"17\" + 0.047*\"394\" + 0.044*\"54\" + 0.039*\"758\" + 0.038*\"861\" + 0.036*\"262\" + 0.031*\"134\" + 0.031*\"13\"'),\n",
       " (28,\n",
       "  '0.195*\"210\" + 0.056*\"68\" + 0.054*\"938\" + 0.033*\"342\" + 0.032*\"182\" + 0.031*\"516\" + 0.030*\"427\" + 0.028*\"362\" + 0.028*\"395\" + 0.024*\"1060\"'),\n",
       " (29,\n",
       "  '0.146*\"43\" + 0.104*\"84\" + 0.064*\"475\" + 0.039*\"21\" + 0.038*\"306\" + 0.038*\"54\" + 0.032*\"898\" + 0.027*\"309\" + 0.026*\"1209\" + 0.020*\"55\"'),\n",
       " (30,\n",
       "  '0.087*\"312\" + 0.086*\"204\" + 0.069*\"48\" + 0.056*\"17\" + 0.050*\"117\" + 0.048*\"191\" + 0.038*\"459\" + 0.034*\"53\" + 0.034*\"439\" + 0.029*\"365\"'),\n",
       " (31,\n",
       "  '0.068*\"206\" + 0.065*\"17\" + 0.056*\"308\" + 0.050*\"501\" + 0.045*\"97\" + 0.042*\"29\" + 0.034*\"234\" + 0.034*\"1276\" + 0.032*\"279\" + 0.031*\"477\"'),\n",
       " (32,\n",
       "  '0.067*\"101\" + 0.056*\"171\" + 0.054*\"826\" + 0.053*\"29\" + 0.046*\"334\" + 0.037*\"254\" + 0.034*\"482\" + 0.032*\"630\" + 0.030*\"633\" + 0.029*\"484\"'),\n",
       " (33,\n",
       "  '0.142*\"390\" + 0.075*\"179\" + 0.067*\"1068\" + 0.054*\"164\" + 0.040*\"1091\" + 0.034*\"1314\" + 0.033*\"1311\" + 0.021*\"1024\" + 0.020*\"519\" + 0.019*\"1987\"'),\n",
       " (34,\n",
       "  '0.082*\"45\" + 0.067*\"17\" + 0.059*\"4\" + 0.051*\"54\" + 0.046*\"252\" + 0.043*\"12\" + 0.042*\"256\" + 0.039*\"315\" + 0.037*\"733\" + 0.035*\"208\"'),\n",
       " (35,\n",
       "  '0.096*\"26\" + 0.051*\"95\" + 0.042*\"48\" + 0.040*\"98\" + 0.039*\"4\" + 0.036*\"231\" + 0.034*\"94\" + 0.033*\"361\" + 0.030*\"29\" + 0.029*\"17\"'),\n",
       " (36,\n",
       "  '0.105*\"203\" + 0.063*\"656\" + 0.059*\"1222\" + 0.056*\"174\" + 0.042*\"280\" + 0.040*\"933\" + 0.039*\"148\" + 0.037*\"566\" + 0.036*\"1228\" + 0.033*\"740\"'),\n",
       " (37,\n",
       "  '0.215*\"144\" + 0.133*\"140\" + 0.086*\"91\" + 0.045*\"45\" + 0.044*\"4\" + 0.026*\"0\" + 0.026*\"1211\" + 0.025*\"521\" + 0.022*\"54\" + 0.020*\"225\"'),\n",
       " (38,\n",
       "  '0.068*\"54\" + 0.060*\"489\" + 0.058*\"17\" + 0.039*\"4\" + 0.038*\"552\" + 0.038*\"712\" + 0.036*\"79\" + 0.031*\"0\" + 0.029*\"6\" + 0.029*\"19\"'),\n",
       " (39,\n",
       "  '0.102*\"81\" + 0.091*\"78\" + 0.062*\"146\" + 0.046*\"73\" + 0.046*\"100\" + 0.031*\"9\" + 0.031*\"729\" + 0.029*\"277\" + 0.027*\"34\" + 0.024*\"12\"')]"
      ]
     },
     "execution_count": 17,
     "metadata": {},
     "output_type": "execute_result"
    }
   ],
   "source": [
    "lda.show_topics(num_topics=40, num_words=10, formatted=True)"
   ]
  },
  {
   "cell_type": "code",
   "execution_count": 18,
   "metadata": {
    "collapsed": false,
    "scrolled": true
   },
   "outputs": [
    {
     "data": {
      "text/plain": [
       "(0,\n",
       " [('17', 0.08272554679748946),\n",
       "  ('116', 0.080315765339626519),\n",
       "  ('100', 0.079497577421526855),\n",
       "  ('54', 0.063701738565159552),\n",
       "  ('279', 0.06369883414961848),\n",
       "  ('119', 0.03542869687610041),\n",
       "  ('307', 0.034279080876904885),\n",
       "  ('29', 0.034236340577608299),\n",
       "  ('38', 0.033008901590063471),\n",
       "  ('12', 0.031967658022379199)])"
      ]
     },
     "execution_count": 18,
     "metadata": {},
     "output_type": "execute_result"
    }
   ],
   "source": [
    "topics = lda.show_topics(num_topics=40, num_words=10, formatted=False)\n",
    "topics[0]"
   ]
  },
  {
   "cell_type": "code",
   "execution_count": 19,
   "metadata": {
    "collapsed": false
   },
   "outputs": [
    {
     "data": {
      "text/plain": [
       "[('17', 0.08272554679748946),\n",
       " ('116', 0.080315765339626519),\n",
       " ('100', 0.079497577421526855),\n",
       " ('54', 0.063701738565159552),\n",
       " ('279', 0.06369883414961848),\n",
       " ('119', 0.03542869687610041),\n",
       " ('307', 0.034279080876904885),\n",
       " ('29', 0.034236340577608299),\n",
       " ('38', 0.033008901590063471),\n",
       " ('12', 0.031967658022379199)]"
      ]
     },
     "execution_count": 19,
     "metadata": {},
     "output_type": "execute_result"
    }
   ],
   "source": [
    "topics[0][1]"
   ]
  },
  {
   "cell_type": "code",
   "execution_count": 20,
   "metadata": {
    "collapsed": false
   },
   "outputs": [
    {
     "data": {
      "text/plain": [
       "array([[ True, False],\n",
       "       [False, False],\n",
       "       [False, False],\n",
       "       [False, False],\n",
       "       [False, False],\n",
       "       [False, False],\n",
       "       [False, False],\n",
       "       [False, False],\n",
       "       [False, False],\n",
       "       [False, False]], dtype=bool)"
      ]
     },
     "execution_count": 20,
     "metadata": {},
     "output_type": "execute_result"
    }
   ],
   "source": [
    "np.array(topics[0][1]) == '17'"
   ]
  },
  {
   "cell_type": "code",
   "execution_count": 21,
   "metadata": {
    "collapsed": true
   },
   "outputs": [],
   "source": [
    "# 1 вариант функции\n",
    "def count_ingredient(topics, ingredient_id):\n",
    "    count_id = 0\n",
    "    for i in range(len(topics)):\n",
    "        for j in range(len(topics[0][1])):\n",
    "            count_id += topics[i][1][j].count(str(ingredient_id))\n",
    "    return count_id"
   ]
  },
  {
   "cell_type": "code",
   "execution_count": 22,
   "metadata": {
    "collapsed": true
   },
   "outputs": [],
   "source": [
    "# 2 вариант функции \n",
    "def count_ingredient(topics, ingredient_id):\n",
    "    return np.array([(np.array(topics[i][1]) == str(ingredient_id)).sum() for i in range(len(topics))]).sum()"
   ]
  },
  {
   "cell_type": "code",
   "execution_count": 23,
   "metadata": {
    "collapsed": true
   },
   "outputs": [],
   "source": [
    "# 3 вариант функции \n",
    "def count_ingredient(topics, ingredient_id):\n",
    "    return np.array([(np.array(top[1]) == str(ingredient_id)).sum() for top in topics]).sum()"
   ]
  },
  {
   "cell_type": "code",
   "execution_count": 24,
   "metadata": {
    "collapsed": false
   },
   "outputs": [
    {
     "data": {
      "text/plain": [
       "{'chicken': 1, 'eggs': 2, 'mushrooms': 1, 'salt': 20, 'sugar': 7, 'water': 10}"
      ]
     },
     "execution_count": 24,
     "metadata": {},
     "output_type": "execute_result"
    }
   ],
   "source": [
    "ingredients = [\"salt\", \"sugar\", \"water\", \"mushrooms\", \"chicken\", \"eggs\"]\n",
    "ingredients_count = {ingredient:count_ingredient(topics, dictionary.token2id[ingredient]) for ingredient in ingredients}\n",
    "ingredients_count"
   ]
  },
  {
   "cell_type": "code",
   "execution_count": 25,
   "metadata": {
    "collapsed": true
   },
   "outputs": [],
   "source": [
    "def save_answers1(c_salt, c_sugar, c_water, c_mushrooms, c_chicken, c_eggs):\n",
    "    with open(\"cooking_LDA_pa_task1.txt\", \"w\") as fout:\n",
    "        fout.write(\" \".join([str(el) for el in [c_salt, c_sugar, c_water, c_mushrooms, c_chicken, c_eggs]]))"
   ]
  },
  {
   "cell_type": "code",
   "execution_count": 26,
   "metadata": {
    "collapsed": false
   },
   "outputs": [],
   "source": [
    "save_answers1(ingredients_count['salt'], ingredients_count['sugar'], \n",
    "            ingredients_count['water'], ingredients_count['mushrooms'], ingredients_count['chicken'], ingredients_count['eggs'])"
   ]
  },
  {
   "cell_type": "markdown",
   "metadata": {},
   "source": [
    "### Фильтрация словаря\n",
    "В топах тем гораздо чаще встречаются первые три рассмотренных ингредиента, чем последние три. При этом наличие в рецепте курицы, яиц и грибов яснее дает понять, что мы будем готовить, чем наличие соли, сахара и воды. Таким образом, даже в рецептах есть слова, часто встречающиеся в текстах и не несущие смысловой нагрузки, и поэтому их не желательно видеть в темах. Наиболее простой прием борьбы с такими фоновыми элементами — фильтрация словаря по частоте. Обычно словарь фильтруют с двух сторон: убирают очень редкие слова (в целях экономии памяти) и очень частые слова (в целях повышения интерпретируемости тем). Мы уберем только частые слова."
   ]
  },
  {
   "cell_type": "code",
   "execution_count": 27,
   "metadata": {
    "collapsed": true
   },
   "outputs": [],
   "source": [
    "import copy\n",
    "dictionary2 = copy.deepcopy(dictionary)"
   ]
  },
  {
   "cell_type": "markdown",
   "metadata": {},
   "source": [
    "__2.__ У объекта dictionary2 есть переменная *dfs* — это словарь, ключами которого являются id токена, а элементами — число раз, сколько слово встретилось во всей коллекции. Сохраним в отдельный список ингредиенты, которые встретились в коллекции больше 4000 раз. Вызовем метод словаря *filter_tokens*, подав в качестве первого аргумента полученный список популярных ингредиентов. Вычислим две величины: dict_size_before и dict_size_after — размер словаря до и после фильтрации.\n",
    "\n",
    "Затем, используя новый словарь, создайдем новый корпус документов, corpus2, по аналогии с тем, как это сделано в начале ноутбука. Вычислим две величины: corpus_size_before и corpus_size_after — суммарное количество ингредиентов в корпусе (для каждого документа вычислим число различных ингредиентов в нем и просуммируем по всем документам) до и после фильтрации.\n",
    "\n",
    "Запишем ответ."
   ]
  },
  {
   "cell_type": "code",
   "execution_count": 28,
   "metadata": {
    "collapsed": false
   },
   "outputs": [
    {
     "data": {
      "text/plain": [
       "[0, 4, 9, 12, 17, 21, 29, 45, 48, 54, 100, 117]"
      ]
     },
     "execution_count": 28,
     "metadata": {},
     "output_type": "execute_result"
    }
   ],
   "source": [
    "list_4000_id = [key for key, val in dictionary2.dfs.items() if val > 4000]\n",
    "list_4000_id"
   ]
  },
  {
   "cell_type": "code",
   "execution_count": 29,
   "metadata": {
    "collapsed": true
   },
   "outputs": [],
   "source": [
    "dictionary2.filter_tokens(bad_ids=list_4000_id)\n",
    "# dictionary2.compactify() # Удаление пробелов в последовательности идентификаторов после слов, которые были удалены"
   ]
  },
  {
   "cell_type": "code",
   "execution_count": 30,
   "metadata": {
    "collapsed": false
   },
   "outputs": [
    {
     "data": {
      "text/plain": [
       "6714"
      ]
     },
     "execution_count": 30,
     "metadata": {},
     "output_type": "execute_result"
    }
   ],
   "source": [
    "dict_size_before = len(dictionary) # размер словаря до фильтрации\n",
    "dict_size_before"
   ]
  },
  {
   "cell_type": "code",
   "execution_count": 31,
   "metadata": {
    "collapsed": false
   },
   "outputs": [
    {
     "name": "stdout",
     "output_type": "stream",
     "text": [
      "6702\n"
     ]
    }
   ],
   "source": [
    "dict_size_after = len(dictionary2)  # размер словаря после фильтрации\n",
    "print dict_size_after"
   ]
  },
  {
   "cell_type": "code",
   "execution_count": 32,
   "metadata": {
    "collapsed": false
   },
   "outputs": [],
   "source": [
    "corpus2 = [dictionary2.doc2bow(text) for text in texts]  # составляем новый корпус документов"
   ]
  },
  {
   "cell_type": "code",
   "execution_count": 33,
   "metadata": {
    "collapsed": false
   },
   "outputs": [
    {
     "data": {
      "text/plain": [
       "428249"
      ]
     },
     "execution_count": 33,
     "metadata": {},
     "output_type": "execute_result"
    }
   ],
   "source": [
    "corpus_size_before = np.sum([len(corp) for corp in corpus])  # суммарное количество ингредиентов в корпусе до фильтрации\n",
    "corpus_size_before"
   ]
  },
  {
   "cell_type": "code",
   "execution_count": 34,
   "metadata": {
    "collapsed": false
   },
   "outputs": [
    {
     "data": {
      "text/plain": [
       "343665"
      ]
     },
     "execution_count": 34,
     "metadata": {},
     "output_type": "execute_result"
    }
   ],
   "source": [
    "corpus_size_after = np.sum([len(corp) for corp in corpus2]) # суммарное количество ингредиентов в корпусе после фильтрации\n",
    "corpus_size_after"
   ]
  },
  {
   "cell_type": "code",
   "execution_count": 35,
   "metadata": {
    "collapsed": true
   },
   "outputs": [],
   "source": [
    "def save_answers2(dict_size_before, dict_size_after, corpus_size_before, corpus_size_after):\n",
    "    with open(\"cooking_LDA_pa_task2.txt\", \"w\") as fout:\n",
    "        fout.write(\" \".join([str(el) for el in [dict_size_before, dict_size_after, corpus_size_before, corpus_size_after]]))"
   ]
  },
  {
   "cell_type": "code",
   "execution_count": 36,
   "metadata": {
    "collapsed": true
   },
   "outputs": [],
   "source": [
    "save_answers2(dict_size_before, dict_size_after, corpus_size_before, corpus_size_after)"
   ]
  },
  {
   "cell_type": "markdown",
   "metadata": {},
   "source": [
    "### Сравнение когерентностей\n",
    "__3.__ Построем еще одну модель по корпусу corpus2 и словарю dictionary2, остальные параметры оставим такими же, как при первом построении модели. Сохраним новую модель в другую переменную (не перезаписывайте предыдущую модель). \n",
    "\n",
    "Затем воспользуемся методом *top_topics* модели, чтобы вычислить ее когерентность. Передадим в качестве аргумента соответствующий модели корпус. Метод вернет список кортежей (топ токенов, когерентность), отсортированных по убыванию последней. Вычислим среднюю по всем темам когерентность для каждой из двух моделей и запишем ответ. "
   ]
  },
  {
   "cell_type": "code",
   "execution_count": 37,
   "metadata": {
    "collapsed": false
   },
   "outputs": [
    {
     "name": "stdout",
     "output_type": "stream",
     "text": [
      "Wall time: 5min 7s\n"
     ]
    }
   ],
   "source": [
    "%%time\n",
    "np.random.seed(76543)\n",
    "# здесь код для построения модели:\n",
    "\n",
    "lda2 = models.ldamodel.LdaModel(corpus2, num_topics=40, passes=5)"
   ]
  },
  {
   "cell_type": "code",
   "execution_count": 38,
   "metadata": {
    "collapsed": false
   },
   "outputs": [
    {
     "name": "stdout",
     "output_type": "stream",
     "text": [
      "Wall time: 44 s\n"
     ]
    }
   ],
   "source": [
    "%%time\n",
    "coher2 = lda2.top_topics(corpus2)"
   ]
  },
  {
   "cell_type": "code",
   "execution_count": 39,
   "metadata": {
    "collapsed": false,
    "scrolled": true
   },
   "outputs": [
    {
     "data": {
      "text/plain": [
       "([(0.071241240250811619, '4031'),\n",
       "  (0.067396950770617955, '3238'),\n",
       "  (0.051441407498759903, '3422'),\n",
       "  (0.048916806338041845, '5323'),\n",
       "  (0.045546840651656213, '6484'),\n",
       "  (0.037728972430380023, '6584'),\n",
       "  (0.03718935997567293, '1073'),\n",
       "  (0.033687333094579969, '325'),\n",
       "  (0.031625122487958998, '4477'),\n",
       "  (0.029635643273047164, '4010'),\n",
       "  (0.028615544227769119, '3111'),\n",
       "  (0.027314969092606549, '4042'),\n",
       "  (0.024345655974495003, '1353'),\n",
       "  (0.02389138978977327, '5021'),\n",
       "  (0.022182448609846542, '3123'),\n",
       "  (0.021275667153493188, '6102'),\n",
       "  (0.020917448639028707, '4893'),\n",
       "  (0.017862781679006848, '5048'),\n",
       "  (0.017304522609621915, '6155'),\n",
       "  (0.015673903200207125, '424')],\n",
       " -461.74295128095326)"
      ]
     },
     "execution_count": 39,
     "metadata": {},
     "output_type": "execute_result"
    }
   ],
   "source": [
    "coher2[0]"
   ]
  },
  {
   "cell_type": "code",
   "execution_count": 40,
   "metadata": {
    "collapsed": false
   },
   "outputs": [
    {
     "data": {
      "text/plain": [
       "-737.71902468563485"
      ]
     },
     "execution_count": 40,
     "metadata": {},
     "output_type": "execute_result"
    }
   ],
   "source": [
    "coherence2 = np.mean([coh[1] for coh in coher2])\n",
    "coherence2"
   ]
  },
  {
   "cell_type": "code",
   "execution_count": 41,
   "metadata": {
    "collapsed": false
   },
   "outputs": [
    {
     "name": "stdout",
     "output_type": "stream",
     "text": [
      "Wall time: 47.1 s\n"
     ]
    }
   ],
   "source": [
    "%%time\n",
    "coher = lda.top_topics(corpus)"
   ]
  },
  {
   "cell_type": "code",
   "execution_count": 42,
   "metadata": {
    "collapsed": false
   },
   "outputs": [
    {
     "data": {
      "text/plain": [
       "-699.45597397097708"
      ]
     },
     "execution_count": 42,
     "metadata": {},
     "output_type": "execute_result"
    }
   ],
   "source": [
    "coherence = np.mean([coh[1] for coh in coher])\n",
    "coherence"
   ]
  },
  {
   "cell_type": "code",
   "execution_count": 43,
   "metadata": {
    "collapsed": true
   },
   "outputs": [],
   "source": [
    "def save_answers3(coherence, coherence2):\n",
    "    with open(\"cooking_LDA_pa_task3.txt\", \"w\") as fout:\n",
    "        fout.write(\" \".join([\"%3f\"%el for el in [coherence, coherence2]]))"
   ]
  },
  {
   "cell_type": "code",
   "execution_count": 44,
   "metadata": {
    "collapsed": true
   },
   "outputs": [],
   "source": [
    "save_answers3(coherence, coherence2)"
   ]
  },
  {
   "cell_type": "markdown",
   "metadata": {},
   "source": [
    "Считается, что когерентность хорошо соотносится с человеческими оценками интерпретируемости тем. Поэтому на больших текстовых коллекциях когерентность обычно повышается, если убрать фоновую лексику. Однако в нашем случае этого не произошло. "
   ]
  },
  {
   "cell_type": "markdown",
   "metadata": {},
   "source": [
    "### Изучение влияния гиперпараметра alpha"
   ]
  },
  {
   "cell_type": "markdown",
   "metadata": {},
   "source": [
    "В этом разделе мы будем работать со второй моделью, то есть той, которая построена по сокращенному корпусу. \n",
    "\n",
    "Пока что мы посмотрели только на матрицу темы-слова, теперь давайте посмотрим на матрицу темы-документы. Выведем темы для нулевого (или любого другого) документа из корпуса, воспользовавшись методом *get_document_topics* второй модели:"
   ]
  },
  {
   "cell_type": "code",
   "execution_count": 45,
   "metadata": {
    "collapsed": false
   },
   "outputs": [
    {
     "data": {
      "text/plain": [
       "[(19, 0.29847296262118655),\n",
       " (24, 0.3134477377481511),\n",
       " (29, 0.15963155875095586),\n",
       " (31, 0.12844774087970612)]"
      ]
     },
     "execution_count": 45,
     "metadata": {},
     "output_type": "execute_result"
    }
   ],
   "source": [
    "lda2.get_document_topics(corpus2)[1]"
   ]
  },
  {
   "cell_type": "markdown",
   "metadata": {},
   "source": [
    "Также выведим содержимое переменной *.alpha* второй модели:"
   ]
  },
  {
   "cell_type": "code",
   "execution_count": 46,
   "metadata": {
    "collapsed": false
   },
   "outputs": [
    {
     "data": {
      "text/plain": [
       "array([ 0.025,  0.025,  0.025,  0.025,  0.025,  0.025,  0.025,  0.025,\n",
       "        0.025,  0.025,  0.025,  0.025,  0.025,  0.025,  0.025,  0.025,\n",
       "        0.025,  0.025,  0.025,  0.025,  0.025,  0.025,  0.025,  0.025,\n",
       "        0.025,  0.025,  0.025,  0.025,  0.025,  0.025,  0.025,  0.025,\n",
       "        0.025,  0.025,  0.025,  0.025,  0.025,  0.025,  0.025,  0.025])"
      ]
     },
     "execution_count": 46,
     "metadata": {},
     "output_type": "execute_result"
    }
   ],
   "source": [
    "lda2.alpha"
   ]
  },
  {
   "cell_type": "markdown",
   "metadata": {},
   "source": [
    "Должно получиться, что документ характеризуется небольшим числом тем. Попробуем поменять гиперпараметр alpha, задающий априорное распределение Дирихле для распределений тем в документах."
   ]
  },
  {
   "cell_type": "markdown",
   "metadata": {},
   "source": [
    "__4.__ Обучим третью модель: используем сокращенный корпус (corpus2 и dictionary2) и установим параметр __alpha=1__, passes=5.  Выведим темы новой модели для нулевого документа; должно получиться, что распределение над множеством тем практически равномерное. Чтобы убедиться в том, что во второй модели документы описываются гораздо более разреженными распределениями, чем в третьей, посчитаем суммарное количество элементов, __превосходящих 0.01__, в матрицах темы-документы обеих моделей. Другими словами, запросим темы  модели для каждого документа с параметром *minimum_probability=0.01* и просуммируем число элементов в получаемых массивах. Запишем ответ."
   ]
  },
  {
   "cell_type": "code",
   "execution_count": 47,
   "metadata": {
    "collapsed": false
   },
   "outputs": [
    {
     "name": "stdout",
     "output_type": "stream",
     "text": [
      "Wall time: 15min 59s\n"
     ]
    }
   ],
   "source": [
    "%%time\n",
    "np.random.seed(76543)\n",
    "# здесь код для построения модели:\n",
    "\n",
    "lda3 = models.ldamodel.LdaModel(corpus2, num_topics=40, passes=5, alpha=1)"
   ]
  },
  {
   "cell_type": "code",
   "execution_count": 48,
   "metadata": {
    "collapsed": false
   },
   "outputs": [
    {
     "data": {
      "text/plain": [
       "(0,\n",
       " [('5144', 0.22853457239871747),\n",
       "  ('5758', 0.098130706152370059),\n",
       "  ('3951', 0.065124530324840668),\n",
       "  ('504', 0.052511001741717453),\n",
       "  ('1156', 0.051498259960611734),\n",
       "  ('4754', 0.046408081104387523),\n",
       "  ('1092', 0.040915200831834975),\n",
       "  ('1253', 0.031580739611644176),\n",
       "  ('2515', 0.030761279235189187),\n",
       "  ('3055', 0.019434479146385464)])"
      ]
     },
     "execution_count": 48,
     "metadata": {},
     "output_type": "execute_result"
    }
   ],
   "source": [
    "topics3 = lda3.show_topics(num_topics=40, formatted=False)\n",
    "topics3[0]"
   ]
  },
  {
   "cell_type": "code",
   "execution_count": 49,
   "metadata": {
    "collapsed": false,
    "scrolled": true
   },
   "outputs": [
    {
     "data": {
      "text/plain": [
       "1590960"
      ]
     },
     "execution_count": 49,
     "metadata": {},
     "output_type": "execute_result"
    }
   ],
   "source": [
    "doc_top3 = lda3.get_document_topics(corpus2, minimum_probability=0.01)\n",
    "count_model3 = np.sum([len(less_doc_top) for less_doc_top in doc_top3])\n",
    "count_model3"
   ]
  },
  {
   "cell_type": "code",
   "execution_count": 50,
   "metadata": {
    "collapsed": false
   },
   "outputs": [
    {
     "data": {
      "text/plain": [
       "198130"
      ]
     },
     "execution_count": 50,
     "metadata": {},
     "output_type": "execute_result"
    }
   ],
   "source": [
    "doc_top2 = lda2.get_document_topics(corpus2, minimum_probability=0.01)\n",
    "count_model2 = np.sum([len(less_doc_top) for less_doc_top in doc_top2])\n",
    "count_model2"
   ]
  },
  {
   "cell_type": "code",
   "execution_count": 51,
   "metadata": {
    "collapsed": true
   },
   "outputs": [],
   "source": [
    "def save_answers4(count_model2, count_model3):\n",
    "    with open(\"cooking_LDA_pa_task4.txt\", \"w\") as fout:\n",
    "        fout.write(\" \".join([str(el) for el in [count_model2, count_model3]]))"
   ]
  },
  {
   "cell_type": "code",
   "execution_count": 52,
   "metadata": {
    "collapsed": true
   },
   "outputs": [],
   "source": [
    "save_answers4(count_model2, count_model3)"
   ]
  },
  {
   "cell_type": "markdown",
   "metadata": {},
   "source": [
    "Таким образом, гиперпараметр __alpha__ влияет на разреженность распределений тем в документах. Аналогично гиперпараметр __eta__ влияет на разреженность распределений слов в темах."
   ]
  },
  {
   "cell_type": "markdown",
   "metadata": {},
   "source": [
    "### LDA как способ понижения размерности\n",
    "Иногда, распределения над темами, найденные с помощью LDA, добавляют в матрицу объекты-признаки как дополнительные, семантические, признаки, и это может улучшить качество решения задачи. Для простоты просто обучим классификатор рецептов на кухни на признаках, полученных из LDA, и измерим точность (accuracy).\n",
    "\n",
    "__5.__ Используем модель, построенную по сокращенной выборке с alpha по умолчанию (вторую модель). Составьте матрицу $\\Theta = p(t|d)$ вероятностей тем в документах; будем использовать тот же метод get_document_topics, а также вектор правильных ответов y (в том же порядке, в котором рецепты идут в переменной recipes). Создадим объект RandomForestClassifier со 100 деревьями, с помощью функции cross_val_score вычислим среднюю accuracy по трем фолдам (перемешивать данные не нужно) и запишем ответ."
   ]
  },
  {
   "cell_type": "code",
   "execution_count": 53,
   "metadata": {
    "collapsed": false
   },
   "outputs": [
    {
     "name": "stderr",
     "output_type": "stream",
     "text": [
      "C:\\ProgramData\\Anaconda2\\lib\\site-packages\\sklearn\\cross_validation.py:44: DeprecationWarning: This module was deprecated in version 0.18 in favor of the model_selection module into which all the refactored classes and functions are moved. Also note that the interface of the new CV iterators are different from that of this module. This module will be removed in 0.20.\n",
      "  \"This module will be removed in 0.20.\", DeprecationWarning)\n"
     ]
    }
   ],
   "source": [
    "from sklearn.ensemble import RandomForestClassifier\n",
    "from sklearn.cross_validation import cross_val_score"
   ]
  },
  {
   "cell_type": "code",
   "execution_count": 54,
   "metadata": {
    "collapsed": true
   },
   "outputs": [],
   "source": [
    "RF_Classifier = RandomForestClassifier(n_estimators=100)"
   ]
  },
  {
   "cell_type": "code",
   "execution_count": 55,
   "metadata": {
    "collapsed": false
   },
   "outputs": [
    {
     "data": {
      "text/plain": [
       "[(0, 0.11399748720141191), (9, 0.25277042726481042), (24, 0.53045430775599944)]"
      ]
     },
     "execution_count": 55,
     "metadata": {},
     "output_type": "execute_result"
    }
   ],
   "source": [
    "doc_top2_task5 = lda2.get_document_topics(corpus2)\n",
    "doc_top2_task5[30000]"
   ]
  },
  {
   "cell_type": "markdown",
   "metadata": {},
   "source": [
    "делаем матрицу Х - вероятностей тем в документах. Документы - объекты, темы - признаки, вероятности - значения признаков"
   ]
  },
  {
   "cell_type": "code",
   "execution_count": 56,
   "metadata": {
    "collapsed": false
   },
   "outputs": [],
   "source": [
    "X = np.zeros((len(doc_top2_task5), 40))\n",
    "for i in range(len(doc_top2_task5)):\n",
    "    for pair in doc_top2_task5[i]:\n",
    "        X[i, pair[0]] = pair[1]"
   ]
  },
  {
   "cell_type": "code",
   "execution_count": 57,
   "metadata": {
    "collapsed": false
   },
   "outputs": [
    {
     "name": "stdout",
     "output_type": "stream",
     "text": [
      "(39774L, 40L) \n",
      "[[ 0.          0.          0.         ...,  0.          0.          0.        ]\n",
      " [ 0.          0.          0.         ...,  0.          0.          0.        ]\n",
      " [ 0.          0.          0.         ...,  0.          0.          0.        ]\n",
      " ..., \n",
      " [ 0.          0.          0.1025     ...,  0.          0.          0.        ]\n",
      " [ 0.          0.          0.         ...,  0.          0.          0.05061744]\n",
      " [ 0.          0.          0.         ...,  0.          0.          0.        ]]\n"
     ]
    }
   ],
   "source": [
    "print X.shape, '\\n', X"
   ]
  },
  {
   "cell_type": "code",
   "execution_count": 58,
   "metadata": {
    "collapsed": false
   },
   "outputs": [
    {
     "data": {
      "text/plain": [
       "{u'cuisine': u'greek',\n",
       " u'id': 10259,\n",
       " u'ingredients': [u'romaine lettuce',\n",
       "  u'black olives',\n",
       "  u'grape tomatoes',\n",
       "  u'garlic',\n",
       "  u'pepper',\n",
       "  u'purple onion',\n",
       "  u'seasoning',\n",
       "  u'garbanzo beans',\n",
       "  u'feta cheese crumbles']}"
      ]
     },
     "execution_count": 58,
     "metadata": {},
     "output_type": "execute_result"
    }
   ],
   "source": [
    "recipes[0]"
   ]
  },
  {
   "cell_type": "code",
   "execution_count": 59,
   "metadata": {
    "collapsed": true
   },
   "outputs": [],
   "source": [
    "y = [recipe[\"cuisine\"] for recipe in recipes] # формируем вектор правильных ответов - к какой кухне относится рецепт"
   ]
  },
  {
   "cell_type": "code",
   "execution_count": 60,
   "metadata": {
    "collapsed": false
   },
   "outputs": [
    {
     "name": "stdout",
     "output_type": "stream",
     "text": [
      "количество классов: 20\n"
     ]
    }
   ],
   "source": [
    "print 'количество классов:', len(np.unique(y))"
   ]
  },
  {
   "cell_type": "code",
   "execution_count": 61,
   "metadata": {
    "collapsed": false
   },
   "outputs": [
    {
     "data": {
      "text/plain": [
       "39774"
      ]
     },
     "execution_count": 61,
     "metadata": {},
     "output_type": "execute_result"
    }
   ],
   "source": [
    "len(y)"
   ]
  },
  {
   "cell_type": "code",
   "execution_count": 62,
   "metadata": {
    "collapsed": false
   },
   "outputs": [
    {
     "name": "stdout",
     "output_type": "stream",
     "text": [
      "Wall time: 25.1 s\n"
     ]
    }
   ],
   "source": [
    "%%time\n",
    "accuracy = np.mean(cross_val_score(RF_Classifier, X, y, cv=3))"
   ]
  },
  {
   "cell_type": "code",
   "execution_count": 63,
   "metadata": {
    "collapsed": false
   },
   "outputs": [
    {
     "data": {
      "text/plain": [
       "0.55745069133601921"
      ]
     },
     "execution_count": 63,
     "metadata": {},
     "output_type": "execute_result"
    }
   ],
   "source": [
    "accuracy"
   ]
  },
  {
   "cell_type": "code",
   "execution_count": 64,
   "metadata": {
    "collapsed": true
   },
   "outputs": [],
   "source": [
    "def save_answers5(accuracy):\n",
    "     with open(\"cooking_LDA_pa_task5.txt\", \"w\") as fout:\n",
    "        fout.write(str(accuracy))"
   ]
  },
  {
   "cell_type": "code",
   "execution_count": 65,
   "metadata": {
    "collapsed": true
   },
   "outputs": [],
   "source": [
    "save_answers5(accuracy)"
   ]
  },
  {
   "cell_type": "markdown",
   "metadata": {},
   "source": [
    "Для такого большого количества классов это неплохая точность. Можно попроовать обучать RandomForest на исходной матрице частот слов, имеющей значительно большую размерность, и увидеть, что accuracy увеличивается на 10–15%. Таким образом, LDA собрал не всю, но достаточно большую часть информации из выборки, в матрице низкого ранга."
   ]
  },
  {
   "cell_type": "markdown",
   "metadata": {},
   "source": [
    "### LDA — вероятностная модель\n",
    "Матричное разложение, использующееся в LDA, интерпретируется как следующий процесс генерации документов.\n",
    "\n",
    "Для документа $d$ длины $n_d$:\n",
    "1. Из априорного распределения Дирихле с параметром alpha сгенерировать распределение над множеством тем: $\\theta_d \\sim Dirichlet(\\alpha)$\n",
    "1. Для каждого слова $w = 1, \\dots, n_d$:\n",
    "    1. Сгенерировать тему из дискретного распределения $t \\sim \\theta_{d}$\n",
    "    1. Сгенерировать слово из дискретного распределения $w \\sim \\phi_{t}$.\n",
    "    \n",
    "Подробнее об этом в [Википедии](https://en.wikipedia.org/wiki/Latent_Dirichlet_allocation).\n",
    "\n",
    "В контексте нашей задачи получается, что, используя данный генеративный процесс, можно создавать новые рецепты. Вы можете передать в функцию модель и число ингредиентов и сгенерировать рецепт :)"
   ]
  },
  {
   "cell_type": "code",
   "execution_count": 66,
   "metadata": {
    "collapsed": false
   },
   "outputs": [],
   "source": [
    "def generate_recipe(model, num_ingredients):\n",
    "    theta = np.random.dirichlet(model.alpha)\n",
    "    for i in range(num_ingredients):\n",
    "        t = np.random.choice(np.arange(model.num_topics), p=theta)\n",
    "        topic = model.show_topic(t, topn=model.num_terms)\n",
    "        topic_distr = [x[1] for x in topic]\n",
    "        terms = [x[0] for x in topic]\n",
    "        w = np.random.choice(terms, p=topic_distr)\n",
    "        print w"
   ]
  },
  {
   "cell_type": "code",
   "execution_count": 75,
   "metadata": {
    "collapsed": false
   },
   "outputs": [
    {
     "name": "stdout",
     "output_type": "stream",
     "text": [
      "1528\n",
      "352\n",
      "29\n",
      "228\n",
      "256\n",
      "1872\n",
      "38\n",
      "262\n",
      "214\n",
      "2284\n"
     ]
    }
   ],
   "source": [
    "model = lda\n",
    "num_ingredients = 10\n",
    "generate_recipe(model, num_ingredients)"
   ]
  },
  {
   "cell_type": "markdown",
   "metadata": {},
   "source": [
    "### Интерпретация построенной модели\n",
    "Можно рассмотреть топы ингредиентов каждой темы. Большиснтво тем сами по себе похожи на рецепты; в некоторых собираются продукты одного вида, например, свежие фрукты или разные виды сыра.\n",
    "\n",
    "Попробуем эмпирически соотнести наши темы с национальными кухнями (cuisine). Построим матрицу $A$ размера темы $x$ кухни, ее элементы $a_{tc}$ — суммы $p(t|d)$ по всем документам $d$, которые отнесены к кухне $c$. Нормируем матрицу на частоты рецептов по разным кухням, чтобы избежать дисбаланса между кухнями. Следующая функция получает на вход объект модели, объект корпуса и исходные данные и возвращает нормированную матрицу $A$. Ее удобно визуализировать с помощью seaborn."
   ]
  },
  {
   "cell_type": "code",
   "execution_count": 68,
   "metadata": {
    "collapsed": true
   },
   "outputs": [],
   "source": [
    "import pandas\n",
    "import seaborn\n",
    "from matplotlib import pyplot as plt\n",
    "%matplotlib inline"
   ]
  },
  {
   "cell_type": "code",
   "execution_count": 69,
   "metadata": {
    "collapsed": true
   },
   "outputs": [],
   "source": [
    "def compute_topic_cuisine_matrix(model, corpus, recipes):\n",
    "    # составляем вектор целевых признаков\n",
    "    targets = list(set([recipe[\"cuisine\"] for recipe in recipes]))\n",
    "    # составляем матрицу\n",
    "    tc_matrix = pandas.DataFrame(data=np.zeros((model.num_topics, len(targets))), columns=targets)\n",
    "    for recipe, bow in zip(recipes, corpus):\n",
    "        recipe_topic = model.get_document_topics(bow)\n",
    "        for t, prob in recipe_topic:\n",
    "            tc_matrix[recipe[\"cuisine\"]][t] += prob\n",
    "    # нормируем матрицу\n",
    "    target_sums = pandas.DataFrame(data=np.zeros((1, len(targets))), columns=targets)\n",
    "    for recipe in recipes:\n",
    "        target_sums[recipe[\"cuisine\"]] += 1\n",
    "    return pandas.DataFrame(tc_matrix.values/target_sums.values, columns=tc_matrix.columns)"
   ]
  },
  {
   "cell_type": "code",
   "execution_count": 77,
   "metadata": {
    "collapsed": false
   },
   "outputs": [
    {
     "data": {
      "text/html": [
       "<div>\n",
       "<table border=\"1\" class=\"dataframe\">\n",
       "  <thead>\n",
       "    <tr style=\"text-align: right;\">\n",
       "      <th></th>\n",
       "      <th>irish</th>\n",
       "      <th>mexican</th>\n",
       "      <th>chinese</th>\n",
       "      <th>filipino</th>\n",
       "      <th>vietnamese</th>\n",
       "      <th>moroccan</th>\n",
       "      <th>brazilian</th>\n",
       "      <th>japanese</th>\n",
       "      <th>british</th>\n",
       "      <th>greek</th>\n",
       "      <th>indian</th>\n",
       "      <th>jamaican</th>\n",
       "      <th>french</th>\n",
       "      <th>spanish</th>\n",
       "      <th>russian</th>\n",
       "      <th>cajun_creole</th>\n",
       "      <th>thai</th>\n",
       "      <th>southern_us</th>\n",
       "      <th>korean</th>\n",
       "      <th>italian</th>\n",
       "    </tr>\n",
       "  </thead>\n",
       "  <tbody>\n",
       "    <tr>\n",
       "      <th>0</th>\n",
       "      <td>0.031254</td>\n",
       "      <td>0.017506</td>\n",
       "      <td>0.018825</td>\n",
       "      <td>0.006756</td>\n",
       "      <td>0.017233</td>\n",
       "      <td>0.032721</td>\n",
       "      <td>0.015647</td>\n",
       "      <td>0.018455</td>\n",
       "      <td>0.008116</td>\n",
       "      <td>0.042378</td>\n",
       "      <td>0.022988</td>\n",
       "      <td>0.015926</td>\n",
       "      <td>0.034797</td>\n",
       "      <td>0.052234</td>\n",
       "      <td>0.021538</td>\n",
       "      <td>0.020693</td>\n",
       "      <td>0.028992</td>\n",
       "      <td>0.014917</td>\n",
       "      <td>0.013235</td>\n",
       "      <td>0.059598</td>\n",
       "    </tr>\n",
       "    <tr>\n",
       "      <th>1</th>\n",
       "      <td>0.035091</td>\n",
       "      <td>0.009625</td>\n",
       "      <td>0.028647</td>\n",
       "      <td>0.053538</td>\n",
       "      <td>0.032380</td>\n",
       "      <td>0.009696</td>\n",
       "      <td>0.006808</td>\n",
       "      <td>0.043946</td>\n",
       "      <td>0.014720</td>\n",
       "      <td>0.007592</td>\n",
       "      <td>0.011044</td>\n",
       "      <td>0.014095</td>\n",
       "      <td>0.011725</td>\n",
       "      <td>0.007633</td>\n",
       "      <td>0.034669</td>\n",
       "      <td>0.007587</td>\n",
       "      <td>0.015938</td>\n",
       "      <td>0.009503</td>\n",
       "      <td>0.094724</td>\n",
       "      <td>0.011497</td>\n",
       "    </tr>\n",
       "    <tr>\n",
       "      <th>2</th>\n",
       "      <td>0.016576</td>\n",
       "      <td>0.007091</td>\n",
       "      <td>0.005245</td>\n",
       "      <td>0.004342</td>\n",
       "      <td>0.009462</td>\n",
       "      <td>0.006280</td>\n",
       "      <td>0.004205</td>\n",
       "      <td>0.003223</td>\n",
       "      <td>0.014084</td>\n",
       "      <td>0.014880</td>\n",
       "      <td>0.003300</td>\n",
       "      <td>0.005372</td>\n",
       "      <td>0.024964</td>\n",
       "      <td>0.013034</td>\n",
       "      <td>0.008374</td>\n",
       "      <td>0.011000</td>\n",
       "      <td>0.008886</td>\n",
       "      <td>0.011746</td>\n",
       "      <td>0.003061</td>\n",
       "      <td>0.017357</td>\n",
       "    </tr>\n",
       "    <tr>\n",
       "      <th>3</th>\n",
       "      <td>0.049161</td>\n",
       "      <td>0.010117</td>\n",
       "      <td>0.015553</td>\n",
       "      <td>0.051003</td>\n",
       "      <td>0.015002</td>\n",
       "      <td>0.032883</td>\n",
       "      <td>0.015178</td>\n",
       "      <td>0.026697</td>\n",
       "      <td>0.044739</td>\n",
       "      <td>0.012766</td>\n",
       "      <td>0.040609</td>\n",
       "      <td>0.021060</td>\n",
       "      <td>0.017964</td>\n",
       "      <td>0.025519</td>\n",
       "      <td>0.036626</td>\n",
       "      <td>0.009338</td>\n",
       "      <td>0.010721</td>\n",
       "      <td>0.009517</td>\n",
       "      <td>0.013976</td>\n",
       "      <td>0.007415</td>\n",
       "    </tr>\n",
       "    <tr>\n",
       "      <th>4</th>\n",
       "      <td>0.030742</td>\n",
       "      <td>0.033304</td>\n",
       "      <td>0.015915</td>\n",
       "      <td>0.023478</td>\n",
       "      <td>0.009338</td>\n",
       "      <td>0.007647</td>\n",
       "      <td>0.023813</td>\n",
       "      <td>0.014436</td>\n",
       "      <td>0.043928</td>\n",
       "      <td>0.021986</td>\n",
       "      <td>0.011954</td>\n",
       "      <td>0.073484</td>\n",
       "      <td>0.017866</td>\n",
       "      <td>0.034780</td>\n",
       "      <td>0.029963</td>\n",
       "      <td>0.278178</td>\n",
       "      <td>0.011125</td>\n",
       "      <td>0.073627</td>\n",
       "      <td>0.011320</td>\n",
       "      <td>0.016408</td>\n",
       "    </tr>\n",
       "    <tr>\n",
       "      <th>5</th>\n",
       "      <td>0.013375</td>\n",
       "      <td>0.016666</td>\n",
       "      <td>0.003977</td>\n",
       "      <td>0.009520</td>\n",
       "      <td>0.007898</td>\n",
       "      <td>0.328245</td>\n",
       "      <td>0.025497</td>\n",
       "      <td>0.007944</td>\n",
       "      <td>0.017711</td>\n",
       "      <td>0.047799</td>\n",
       "      <td>0.145100</td>\n",
       "      <td>0.020861</td>\n",
       "      <td>0.016454</td>\n",
       "      <td>0.043207</td>\n",
       "      <td>0.016993</td>\n",
       "      <td>0.011347</td>\n",
       "      <td>0.013711</td>\n",
       "      <td>0.010120</td>\n",
       "      <td>0.003211</td>\n",
       "      <td>0.011370</td>\n",
       "    </tr>\n",
       "    <tr>\n",
       "      <th>6</th>\n",
       "      <td>0.037962</td>\n",
       "      <td>0.007876</td>\n",
       "      <td>0.005949</td>\n",
       "      <td>0.014839</td>\n",
       "      <td>0.008543</td>\n",
       "      <td>0.041820</td>\n",
       "      <td>0.014233</td>\n",
       "      <td>0.005935</td>\n",
       "      <td>0.034444</td>\n",
       "      <td>0.017279</td>\n",
       "      <td>0.013336</td>\n",
       "      <td>0.054976</td>\n",
       "      <td>0.019307</td>\n",
       "      <td>0.013087</td>\n",
       "      <td>0.025597</td>\n",
       "      <td>0.012856</td>\n",
       "      <td>0.007794</td>\n",
       "      <td>0.032496</td>\n",
       "      <td>0.003830</td>\n",
       "      <td>0.008910</td>\n",
       "    </tr>\n",
       "    <tr>\n",
       "      <th>7</th>\n",
       "      <td>0.007814</td>\n",
       "      <td>0.015795</td>\n",
       "      <td>0.007238</td>\n",
       "      <td>0.016819</td>\n",
       "      <td>0.007387</td>\n",
       "      <td>0.019779</td>\n",
       "      <td>0.011614</td>\n",
       "      <td>0.008590</td>\n",
       "      <td>0.011034</td>\n",
       "      <td>0.036916</td>\n",
       "      <td>0.008479</td>\n",
       "      <td>0.007939</td>\n",
       "      <td>0.025546</td>\n",
       "      <td>0.030883</td>\n",
       "      <td>0.010223</td>\n",
       "      <td>0.013173</td>\n",
       "      <td>0.015851</td>\n",
       "      <td>0.010943</td>\n",
       "      <td>0.009573</td>\n",
       "      <td>0.061954</td>\n",
       "    </tr>\n",
       "    <tr>\n",
       "      <th>8</th>\n",
       "      <td>0.006463</td>\n",
       "      <td>0.005870</td>\n",
       "      <td>0.014002</td>\n",
       "      <td>0.044993</td>\n",
       "      <td>0.011603</td>\n",
       "      <td>0.007474</td>\n",
       "      <td>0.013860</td>\n",
       "      <td>0.009310</td>\n",
       "      <td>0.008291</td>\n",
       "      <td>0.003772</td>\n",
       "      <td>0.039549</td>\n",
       "      <td>0.016165</td>\n",
       "      <td>0.005587</td>\n",
       "      <td>0.005427</td>\n",
       "      <td>0.015246</td>\n",
       "      <td>0.006007</td>\n",
       "      <td>0.015099</td>\n",
       "      <td>0.006798</td>\n",
       "      <td>0.027644</td>\n",
       "      <td>0.003363</td>\n",
       "    </tr>\n",
       "    <tr>\n",
       "      <th>9</th>\n",
       "      <td>0.007754</td>\n",
       "      <td>0.064838</td>\n",
       "      <td>0.004822</td>\n",
       "      <td>0.021680</td>\n",
       "      <td>0.009050</td>\n",
       "      <td>0.006895</td>\n",
       "      <td>0.020781</td>\n",
       "      <td>0.004201</td>\n",
       "      <td>0.006404</td>\n",
       "      <td>0.048745</td>\n",
       "      <td>0.012975</td>\n",
       "      <td>0.015957</td>\n",
       "      <td>0.006840</td>\n",
       "      <td>0.021519</td>\n",
       "      <td>0.020805</td>\n",
       "      <td>0.029175</td>\n",
       "      <td>0.006987</td>\n",
       "      <td>0.007190</td>\n",
       "      <td>0.004915</td>\n",
       "      <td>0.050120</td>\n",
       "    </tr>\n",
       "    <tr>\n",
       "      <th>10</th>\n",
       "      <td>0.034542</td>\n",
       "      <td>0.006841</td>\n",
       "      <td>0.002877</td>\n",
       "      <td>0.004587</td>\n",
       "      <td>0.005749</td>\n",
       "      <td>0.008742</td>\n",
       "      <td>0.012669</td>\n",
       "      <td>0.006273</td>\n",
       "      <td>0.030113</td>\n",
       "      <td>0.020373</td>\n",
       "      <td>0.005032</td>\n",
       "      <td>0.015746</td>\n",
       "      <td>0.034836</td>\n",
       "      <td>0.019842</td>\n",
       "      <td>0.033495</td>\n",
       "      <td>0.024103</td>\n",
       "      <td>0.003745</td>\n",
       "      <td>0.025103</td>\n",
       "      <td>0.004899</td>\n",
       "      <td>0.020552</td>\n",
       "    </tr>\n",
       "    <tr>\n",
       "      <th>11</th>\n",
       "      <td>0.005858</td>\n",
       "      <td>0.211454</td>\n",
       "      <td>0.006455</td>\n",
       "      <td>0.023072</td>\n",
       "      <td>0.031243</td>\n",
       "      <td>0.017125</td>\n",
       "      <td>0.062334</td>\n",
       "      <td>0.010274</td>\n",
       "      <td>0.001897</td>\n",
       "      <td>0.009502</td>\n",
       "      <td>0.026220</td>\n",
       "      <td>0.048868</td>\n",
       "      <td>0.005713</td>\n",
       "      <td>0.027773</td>\n",
       "      <td>0.005286</td>\n",
       "      <td>0.012242</td>\n",
       "      <td>0.040172</td>\n",
       "      <td>0.012577</td>\n",
       "      <td>0.009124</td>\n",
       "      <td>0.006982</td>\n",
       "    </tr>\n",
       "    <tr>\n",
       "      <th>12</th>\n",
       "      <td>0.013694</td>\n",
       "      <td>0.019785</td>\n",
       "      <td>0.005626</td>\n",
       "      <td>0.005813</td>\n",
       "      <td>0.010087</td>\n",
       "      <td>0.007307</td>\n",
       "      <td>0.012514</td>\n",
       "      <td>0.010361</td>\n",
       "      <td>0.011780</td>\n",
       "      <td>0.069254</td>\n",
       "      <td>0.005797</td>\n",
       "      <td>0.011538</td>\n",
       "      <td>0.010589</td>\n",
       "      <td>0.016276</td>\n",
       "      <td>0.017219</td>\n",
       "      <td>0.009216</td>\n",
       "      <td>0.009099</td>\n",
       "      <td>0.011824</td>\n",
       "      <td>0.009388</td>\n",
       "      <td>0.011131</td>\n",
       "    </tr>\n",
       "    <tr>\n",
       "      <th>13</th>\n",
       "      <td>0.009115</td>\n",
       "      <td>0.166925</td>\n",
       "      <td>0.006317</td>\n",
       "      <td>0.009724</td>\n",
       "      <td>0.003333</td>\n",
       "      <td>0.003925</td>\n",
       "      <td>0.015880</td>\n",
       "      <td>0.004347</td>\n",
       "      <td>0.011525</td>\n",
       "      <td>0.006462</td>\n",
       "      <td>0.006830</td>\n",
       "      <td>0.010032</td>\n",
       "      <td>0.006153</td>\n",
       "      <td>0.013656</td>\n",
       "      <td>0.031588</td>\n",
       "      <td>0.021263</td>\n",
       "      <td>0.005406</td>\n",
       "      <td>0.018700</td>\n",
       "      <td>0.003757</td>\n",
       "      <td>0.007729</td>\n",
       "    </tr>\n",
       "    <tr>\n",
       "      <th>14</th>\n",
       "      <td>0.013924</td>\n",
       "      <td>0.008796</td>\n",
       "      <td>0.012215</td>\n",
       "      <td>0.022619</td>\n",
       "      <td>0.023902</td>\n",
       "      <td>0.018620</td>\n",
       "      <td>0.092168</td>\n",
       "      <td>0.010824</td>\n",
       "      <td>0.018686</td>\n",
       "      <td>0.015504</td>\n",
       "      <td>0.024221</td>\n",
       "      <td>0.013843</td>\n",
       "      <td>0.019110</td>\n",
       "      <td>0.029813</td>\n",
       "      <td>0.016503</td>\n",
       "      <td>0.006964</td>\n",
       "      <td>0.019660</td>\n",
       "      <td>0.020902</td>\n",
       "      <td>0.016073</td>\n",
       "      <td>0.012134</td>\n",
       "    </tr>\n",
       "    <tr>\n",
       "      <th>15</th>\n",
       "      <td>0.012434</td>\n",
       "      <td>0.006728</td>\n",
       "      <td>0.028911</td>\n",
       "      <td>0.007972</td>\n",
       "      <td>0.012468</td>\n",
       "      <td>0.015904</td>\n",
       "      <td>0.028911</td>\n",
       "      <td>0.018777</td>\n",
       "      <td>0.016794</td>\n",
       "      <td>0.008498</td>\n",
       "      <td>0.010919</td>\n",
       "      <td>0.017368</td>\n",
       "      <td>0.014720</td>\n",
       "      <td>0.010966</td>\n",
       "      <td>0.027579</td>\n",
       "      <td>0.006841</td>\n",
       "      <td>0.008974</td>\n",
       "      <td>0.017567</td>\n",
       "      <td>0.012555</td>\n",
       "      <td>0.008761</td>\n",
       "    </tr>\n",
       "    <tr>\n",
       "      <th>16</th>\n",
       "      <td>0.022822</td>\n",
       "      <td>0.013328</td>\n",
       "      <td>0.006952</td>\n",
       "      <td>0.006065</td>\n",
       "      <td>0.007343</td>\n",
       "      <td>0.064117</td>\n",
       "      <td>0.017397</td>\n",
       "      <td>0.009443</td>\n",
       "      <td>0.021657</td>\n",
       "      <td>0.086772</td>\n",
       "      <td>0.009364</td>\n",
       "      <td>0.013080</td>\n",
       "      <td>0.098564</td>\n",
       "      <td>0.144238</td>\n",
       "      <td>0.028382</td>\n",
       "      <td>0.036012</td>\n",
       "      <td>0.008040</td>\n",
       "      <td>0.022255</td>\n",
       "      <td>0.006545</td>\n",
       "      <td>0.130034</td>\n",
       "    </tr>\n",
       "    <tr>\n",
       "      <th>17</th>\n",
       "      <td>0.011434</td>\n",
       "      <td>0.007284</td>\n",
       "      <td>0.008469</td>\n",
       "      <td>0.032872</td>\n",
       "      <td>0.023118</td>\n",
       "      <td>0.011241</td>\n",
       "      <td>0.037553</td>\n",
       "      <td>0.008882</td>\n",
       "      <td>0.010200</td>\n",
       "      <td>0.012329</td>\n",
       "      <td>0.018756</td>\n",
       "      <td>0.056518</td>\n",
       "      <td>0.014258</td>\n",
       "      <td>0.014981</td>\n",
       "      <td>0.010784</td>\n",
       "      <td>0.011534</td>\n",
       "      <td>0.056311</td>\n",
       "      <td>0.007558</td>\n",
       "      <td>0.008117</td>\n",
       "      <td>0.012140</td>\n",
       "    </tr>\n",
       "    <tr>\n",
       "      <th>18</th>\n",
       "      <td>0.213385</td>\n",
       "      <td>0.030508</td>\n",
       "      <td>0.027120</td>\n",
       "      <td>0.069115</td>\n",
       "      <td>0.011750</td>\n",
       "      <td>0.018869</td>\n",
       "      <td>0.069953</td>\n",
       "      <td>0.044166</td>\n",
       "      <td>0.212330</td>\n",
       "      <td>0.038599</td>\n",
       "      <td>0.031051</td>\n",
       "      <td>0.082007</td>\n",
       "      <td>0.074943</td>\n",
       "      <td>0.040015</td>\n",
       "      <td>0.153469</td>\n",
       "      <td>0.051497</td>\n",
       "      <td>0.009490</td>\n",
       "      <td>0.223029</td>\n",
       "      <td>0.018496</td>\n",
       "      <td>0.036917</td>\n",
       "    </tr>\n",
       "    <tr>\n",
       "      <th>19</th>\n",
       "      <td>0.013816</td>\n",
       "      <td>0.006205</td>\n",
       "      <td>0.008649</td>\n",
       "      <td>0.010178</td>\n",
       "      <td>0.013624</td>\n",
       "      <td>0.011319</td>\n",
       "      <td>0.036175</td>\n",
       "      <td>0.005482</td>\n",
       "      <td>0.011837</td>\n",
       "      <td>0.013402</td>\n",
       "      <td>0.028256</td>\n",
       "      <td>0.020383</td>\n",
       "      <td>0.010137</td>\n",
       "      <td>0.011645</td>\n",
       "      <td>0.009699</td>\n",
       "      <td>0.011331</td>\n",
       "      <td>0.011858</td>\n",
       "      <td>0.012751</td>\n",
       "      <td>0.002848</td>\n",
       "      <td>0.005438</td>\n",
       "    </tr>\n",
       "    <tr>\n",
       "      <th>20</th>\n",
       "      <td>0.006167</td>\n",
       "      <td>0.005611</td>\n",
       "      <td>0.044317</td>\n",
       "      <td>0.020209</td>\n",
       "      <td>0.094277</td>\n",
       "      <td>0.004375</td>\n",
       "      <td>0.005674</td>\n",
       "      <td>0.015583</td>\n",
       "      <td>0.009975</td>\n",
       "      <td>0.009475</td>\n",
       "      <td>0.008511</td>\n",
       "      <td>0.010067</td>\n",
       "      <td>0.008721</td>\n",
       "      <td>0.010316</td>\n",
       "      <td>0.006866</td>\n",
       "      <td>0.008068</td>\n",
       "      <td>0.088373</td>\n",
       "      <td>0.011130</td>\n",
       "      <td>0.021957</td>\n",
       "      <td>0.009536</td>\n",
       "    </tr>\n",
       "    <tr>\n",
       "      <th>21</th>\n",
       "      <td>0.007798</td>\n",
       "      <td>0.017311</td>\n",
       "      <td>0.010265</td>\n",
       "      <td>0.013201</td>\n",
       "      <td>0.008624</td>\n",
       "      <td>0.006696</td>\n",
       "      <td>0.008616</td>\n",
       "      <td>0.010315</td>\n",
       "      <td>0.007508</td>\n",
       "      <td>0.010993</td>\n",
       "      <td>0.006509</td>\n",
       "      <td>0.011857</td>\n",
       "      <td>0.007166</td>\n",
       "      <td>0.011594</td>\n",
       "      <td>0.016969</td>\n",
       "      <td>0.018765</td>\n",
       "      <td>0.011017</td>\n",
       "      <td>0.016354</td>\n",
       "      <td>0.006820</td>\n",
       "      <td>0.011939</td>\n",
       "    </tr>\n",
       "    <tr>\n",
       "      <th>22</th>\n",
       "      <td>0.006686</td>\n",
       "      <td>0.008075</td>\n",
       "      <td>0.007207</td>\n",
       "      <td>0.002160</td>\n",
       "      <td>0.006999</td>\n",
       "      <td>0.003466</td>\n",
       "      <td>0.004093</td>\n",
       "      <td>0.009198</td>\n",
       "      <td>0.016293</td>\n",
       "      <td>0.005594</td>\n",
       "      <td>0.003693</td>\n",
       "      <td>0.004186</td>\n",
       "      <td>0.007188</td>\n",
       "      <td>0.005207</td>\n",
       "      <td>0.007296</td>\n",
       "      <td>0.009544</td>\n",
       "      <td>0.007739</td>\n",
       "      <td>0.015031</td>\n",
       "      <td>0.005733</td>\n",
       "      <td>0.007180</td>\n",
       "    </tr>\n",
       "    <tr>\n",
       "      <th>23</th>\n",
       "      <td>0.009089</td>\n",
       "      <td>0.005813</td>\n",
       "      <td>0.012756</td>\n",
       "      <td>0.009767</td>\n",
       "      <td>0.006700</td>\n",
       "      <td>0.010862</td>\n",
       "      <td>0.008040</td>\n",
       "      <td>0.014744</td>\n",
       "      <td>0.011104</td>\n",
       "      <td>0.022084</td>\n",
       "      <td>0.007025</td>\n",
       "      <td>0.019593</td>\n",
       "      <td>0.017408</td>\n",
       "      <td>0.014664</td>\n",
       "      <td>0.015209</td>\n",
       "      <td>0.027933</td>\n",
       "      <td>0.005504</td>\n",
       "      <td>0.015391</td>\n",
       "      <td>0.006582</td>\n",
       "      <td>0.011106</td>\n",
       "    </tr>\n",
       "    <tr>\n",
       "      <th>24</th>\n",
       "      <td>0.022292</td>\n",
       "      <td>0.006706</td>\n",
       "      <td>0.010090</td>\n",
       "      <td>0.013969</td>\n",
       "      <td>0.012398</td>\n",
       "      <td>0.011199</td>\n",
       "      <td>0.029479</td>\n",
       "      <td>0.007981</td>\n",
       "      <td>0.031525</td>\n",
       "      <td>0.011022</td>\n",
       "      <td>0.007734</td>\n",
       "      <td>0.021078</td>\n",
       "      <td>0.032095</td>\n",
       "      <td>0.012510</td>\n",
       "      <td>0.022300</td>\n",
       "      <td>0.009337</td>\n",
       "      <td>0.008404</td>\n",
       "      <td>0.022730</td>\n",
       "      <td>0.008150</td>\n",
       "      <td>0.015029</td>\n",
       "    </tr>\n",
       "    <tr>\n",
       "      <th>25</th>\n",
       "      <td>0.010578</td>\n",
       "      <td>0.009879</td>\n",
       "      <td>0.007069</td>\n",
       "      <td>0.015715</td>\n",
       "      <td>0.012986</td>\n",
       "      <td>0.024853</td>\n",
       "      <td>0.008649</td>\n",
       "      <td>0.040616</td>\n",
       "      <td>0.008562</td>\n",
       "      <td>0.005855</td>\n",
       "      <td>0.252029</td>\n",
       "      <td>0.028720</td>\n",
       "      <td>0.005399</td>\n",
       "      <td>0.005236</td>\n",
       "      <td>0.010558</td>\n",
       "      <td>0.003335</td>\n",
       "      <td>0.015022</td>\n",
       "      <td>0.006561</td>\n",
       "      <td>0.006645</td>\n",
       "      <td>0.004496</td>\n",
       "    </tr>\n",
       "    <tr>\n",
       "      <th>26</th>\n",
       "      <td>0.008034</td>\n",
       "      <td>0.008666</td>\n",
       "      <td>0.033495</td>\n",
       "      <td>0.063362</td>\n",
       "      <td>0.183212</td>\n",
       "      <td>0.011317</td>\n",
       "      <td>0.030663</td>\n",
       "      <td>0.026072</td>\n",
       "      <td>0.012638</td>\n",
       "      <td>0.004627</td>\n",
       "      <td>0.024398</td>\n",
       "      <td>0.037345</td>\n",
       "      <td>0.005339</td>\n",
       "      <td>0.007129</td>\n",
       "      <td>0.007294</td>\n",
       "      <td>0.004339</td>\n",
       "      <td>0.172859</td>\n",
       "      <td>0.007899</td>\n",
       "      <td>0.029301</td>\n",
       "      <td>0.003866</td>\n",
       "    </tr>\n",
       "    <tr>\n",
       "      <th>27</th>\n",
       "      <td>0.011209</td>\n",
       "      <td>0.008239</td>\n",
       "      <td>0.006157</td>\n",
       "      <td>0.011504</td>\n",
       "      <td>0.009101</td>\n",
       "      <td>0.010763</td>\n",
       "      <td>0.030326</td>\n",
       "      <td>0.007713</td>\n",
       "      <td>0.014545</td>\n",
       "      <td>0.015707</td>\n",
       "      <td>0.007397</td>\n",
       "      <td>0.008133</td>\n",
       "      <td>0.016567</td>\n",
       "      <td>0.007250</td>\n",
       "      <td>0.032066</td>\n",
       "      <td>0.015736</td>\n",
       "      <td>0.007266</td>\n",
       "      <td>0.010922</td>\n",
       "      <td>0.006210</td>\n",
       "      <td>0.080409</td>\n",
       "    </tr>\n",
       "    <tr>\n",
       "      <th>28</th>\n",
       "      <td>0.001965</td>\n",
       "      <td>0.006719</td>\n",
       "      <td>0.012790</td>\n",
       "      <td>0.020017</td>\n",
       "      <td>0.023677</td>\n",
       "      <td>0.004151</td>\n",
       "      <td>0.012301</td>\n",
       "      <td>0.007948</td>\n",
       "      <td>0.006081</td>\n",
       "      <td>0.005632</td>\n",
       "      <td>0.008997</td>\n",
       "      <td>0.007391</td>\n",
       "      <td>0.004378</td>\n",
       "      <td>0.010330</td>\n",
       "      <td>0.003015</td>\n",
       "      <td>0.016477</td>\n",
       "      <td>0.029772</td>\n",
       "      <td>0.007690</td>\n",
       "      <td>0.014201</td>\n",
       "      <td>0.007406</td>\n",
       "    </tr>\n",
       "    <tr>\n",
       "      <th>29</th>\n",
       "      <td>0.005802</td>\n",
       "      <td>0.009824</td>\n",
       "      <td>0.007634</td>\n",
       "      <td>0.006419</td>\n",
       "      <td>0.007955</td>\n",
       "      <td>0.008044</td>\n",
       "      <td>0.011023</td>\n",
       "      <td>0.007066</td>\n",
       "      <td>0.012267</td>\n",
       "      <td>0.007181</td>\n",
       "      <td>0.003418</td>\n",
       "      <td>0.007855</td>\n",
       "      <td>0.028944</td>\n",
       "      <td>0.024136</td>\n",
       "      <td>0.011195</td>\n",
       "      <td>0.007911</td>\n",
       "      <td>0.008473</td>\n",
       "      <td>0.006098</td>\n",
       "      <td>0.007891</td>\n",
       "      <td>0.013610</td>\n",
       "    </tr>\n",
       "    <tr>\n",
       "      <th>30</th>\n",
       "      <td>0.090822</td>\n",
       "      <td>0.017037</td>\n",
       "      <td>0.014268</td>\n",
       "      <td>0.025122</td>\n",
       "      <td>0.010548</td>\n",
       "      <td>0.027495</td>\n",
       "      <td>0.049122</td>\n",
       "      <td>0.028872</td>\n",
       "      <td>0.135420</td>\n",
       "      <td>0.028557</td>\n",
       "      <td>0.014787</td>\n",
       "      <td>0.023745</td>\n",
       "      <td>0.165664</td>\n",
       "      <td>0.049064</td>\n",
       "      <td>0.099083</td>\n",
       "      <td>0.031677</td>\n",
       "      <td>0.009562</td>\n",
       "      <td>0.086614</td>\n",
       "      <td>0.014570</td>\n",
       "      <td>0.053227</td>\n",
       "    </tr>\n",
       "    <tr>\n",
       "      <th>31</th>\n",
       "      <td>0.020957</td>\n",
       "      <td>0.014690</td>\n",
       "      <td>0.005867</td>\n",
       "      <td>0.007631</td>\n",
       "      <td>0.004952</td>\n",
       "      <td>0.016464</td>\n",
       "      <td>0.021562</td>\n",
       "      <td>0.002616</td>\n",
       "      <td>0.012822</td>\n",
       "      <td>0.015890</td>\n",
       "      <td>0.011162</td>\n",
       "      <td>0.021746</td>\n",
       "      <td>0.018831</td>\n",
       "      <td>0.017430</td>\n",
       "      <td>0.014532</td>\n",
       "      <td>0.046727</td>\n",
       "      <td>0.008829</td>\n",
       "      <td>0.028251</td>\n",
       "      <td>0.004285</td>\n",
       "      <td>0.015695</td>\n",
       "    </tr>\n",
       "    <tr>\n",
       "      <th>32</th>\n",
       "      <td>0.009737</td>\n",
       "      <td>0.004504</td>\n",
       "      <td>0.009535</td>\n",
       "      <td>0.008803</td>\n",
       "      <td>0.012450</td>\n",
       "      <td>0.008164</td>\n",
       "      <td>0.010258</td>\n",
       "      <td>0.051116</td>\n",
       "      <td>0.003703</td>\n",
       "      <td>0.006257</td>\n",
       "      <td>0.008478</td>\n",
       "      <td>0.006728</td>\n",
       "      <td>0.009329</td>\n",
       "      <td>0.011411</td>\n",
       "      <td>0.007497</td>\n",
       "      <td>0.004522</td>\n",
       "      <td>0.011436</td>\n",
       "      <td>0.012407</td>\n",
       "      <td>0.016891</td>\n",
       "      <td>0.007809</td>\n",
       "    </tr>\n",
       "    <tr>\n",
       "      <th>33</th>\n",
       "      <td>0.003937</td>\n",
       "      <td>0.004235</td>\n",
       "      <td>0.015118</td>\n",
       "      <td>0.003938</td>\n",
       "      <td>0.009181</td>\n",
       "      <td>0.006660</td>\n",
       "      <td>0.003093</td>\n",
       "      <td>0.005370</td>\n",
       "      <td>0.008563</td>\n",
       "      <td>0.015775</td>\n",
       "      <td>0.005401</td>\n",
       "      <td>0.007766</td>\n",
       "      <td>0.008804</td>\n",
       "      <td>0.012960</td>\n",
       "      <td>0.002375</td>\n",
       "      <td>0.005052</td>\n",
       "      <td>0.009153</td>\n",
       "      <td>0.006081</td>\n",
       "      <td>0.004134</td>\n",
       "      <td>0.015890</td>\n",
       "    </tr>\n",
       "    <tr>\n",
       "      <th>34</th>\n",
       "      <td>0.050570</td>\n",
       "      <td>0.018321</td>\n",
       "      <td>0.013082</td>\n",
       "      <td>0.072172</td>\n",
       "      <td>0.017413</td>\n",
       "      <td>0.048676</td>\n",
       "      <td>0.052643</td>\n",
       "      <td>0.014803</td>\n",
       "      <td>0.029038</td>\n",
       "      <td>0.062796</td>\n",
       "      <td>0.020531</td>\n",
       "      <td>0.079256</td>\n",
       "      <td>0.050312</td>\n",
       "      <td>0.045088</td>\n",
       "      <td>0.063089</td>\n",
       "      <td>0.070277</td>\n",
       "      <td>0.009391</td>\n",
       "      <td>0.040199</td>\n",
       "      <td>0.009408</td>\n",
       "      <td>0.039266</td>\n",
       "    </tr>\n",
       "    <tr>\n",
       "      <th>35</th>\n",
       "      <td>0.009341</td>\n",
       "      <td>0.005692</td>\n",
       "      <td>0.432284</td>\n",
       "      <td>0.127592</td>\n",
       "      <td>0.142381</td>\n",
       "      <td>0.011085</td>\n",
       "      <td>0.006514</td>\n",
       "      <td>0.322012</td>\n",
       "      <td>0.004675</td>\n",
       "      <td>0.006944</td>\n",
       "      <td>0.013981</td>\n",
       "      <td>0.048473</td>\n",
       "      <td>0.007743</td>\n",
       "      <td>0.006723</td>\n",
       "      <td>0.005081</td>\n",
       "      <td>0.005251</td>\n",
       "      <td>0.121856</td>\n",
       "      <td>0.007799</td>\n",
       "      <td>0.433171</td>\n",
       "      <td>0.004819</td>\n",
       "    </tr>\n",
       "    <tr>\n",
       "      <th>36</th>\n",
       "      <td>0.005962</td>\n",
       "      <td>0.019050</td>\n",
       "      <td>0.010036</td>\n",
       "      <td>0.002960</td>\n",
       "      <td>0.006804</td>\n",
       "      <td>0.002124</td>\n",
       "      <td>0.012933</td>\n",
       "      <td>0.022854</td>\n",
       "      <td>0.003718</td>\n",
       "      <td>0.005834</td>\n",
       "      <td>0.002844</td>\n",
       "      <td>0.003108</td>\n",
       "      <td>0.004650</td>\n",
       "      <td>0.005038</td>\n",
       "      <td>0.003690</td>\n",
       "      <td>0.004357</td>\n",
       "      <td>0.008161</td>\n",
       "      <td>0.007960</td>\n",
       "      <td>0.010581</td>\n",
       "      <td>0.006321</td>\n",
       "    </tr>\n",
       "    <tr>\n",
       "      <th>37</th>\n",
       "      <td>0.010543</td>\n",
       "      <td>0.023884</td>\n",
       "      <td>0.016668</td>\n",
       "      <td>0.018388</td>\n",
       "      <td>0.008730</td>\n",
       "      <td>0.007315</td>\n",
       "      <td>0.011222</td>\n",
       "      <td>0.012555</td>\n",
       "      <td>0.004015</td>\n",
       "      <td>0.006978</td>\n",
       "      <td>0.007509</td>\n",
       "      <td>0.009074</td>\n",
       "      <td>0.005611</td>\n",
       "      <td>0.010286</td>\n",
       "      <td>0.005300</td>\n",
       "      <td>0.014353</td>\n",
       "      <td>0.015957</td>\n",
       "      <td>0.011289</td>\n",
       "      <td>0.009771</td>\n",
       "      <td>0.011378</td>\n",
       "    </tr>\n",
       "    <tr>\n",
       "      <th>38</th>\n",
       "      <td>0.008088</td>\n",
       "      <td>0.009795</td>\n",
       "      <td>0.004862</td>\n",
       "      <td>0.013902</td>\n",
       "      <td>0.013704</td>\n",
       "      <td>0.015660</td>\n",
       "      <td>0.013738</td>\n",
       "      <td>0.004831</td>\n",
       "      <td>0.007451</td>\n",
       "      <td>0.117539</td>\n",
       "      <td>0.005871</td>\n",
       "      <td>0.008432</td>\n",
       "      <td>0.020686</td>\n",
       "      <td>0.037010</td>\n",
       "      <td>0.012526</td>\n",
       "      <td>0.015137</td>\n",
       "      <td>0.008979</td>\n",
       "      <td>0.009719</td>\n",
       "      <td>0.007287</td>\n",
       "      <td>0.079173</td>\n",
       "    </tr>\n",
       "    <tr>\n",
       "      <th>39</th>\n",
       "      <td>0.013212</td>\n",
       "      <td>0.041493</td>\n",
       "      <td>0.015733</td>\n",
       "      <td>0.012014</td>\n",
       "      <td>0.059956</td>\n",
       "      <td>0.015826</td>\n",
       "      <td>0.023451</td>\n",
       "      <td>0.017595</td>\n",
       "      <td>0.011510</td>\n",
       "      <td>0.011516</td>\n",
       "      <td>0.028848</td>\n",
       "      <td>0.024335</td>\n",
       "      <td>0.008109</td>\n",
       "      <td>0.031082</td>\n",
       "      <td>0.009070</td>\n",
       "      <td>0.016777</td>\n",
       "      <td>0.063205</td>\n",
       "      <td>0.013764</td>\n",
       "      <td>0.017531</td>\n",
       "      <td>0.009232</td>\n",
       "    </tr>\n",
       "  </tbody>\n",
       "</table>\n",
       "</div>"
      ],
      "text/plain": [
       "       irish   mexican   chinese  filipino  vietnamese  moroccan  brazilian  \\\n",
       "0   0.031254  0.017506  0.018825  0.006756    0.017233  0.032721   0.015647   \n",
       "1   0.035091  0.009625  0.028647  0.053538    0.032380  0.009696   0.006808   \n",
       "2   0.016576  0.007091  0.005245  0.004342    0.009462  0.006280   0.004205   \n",
       "3   0.049161  0.010117  0.015553  0.051003    0.015002  0.032883   0.015178   \n",
       "4   0.030742  0.033304  0.015915  0.023478    0.009338  0.007647   0.023813   \n",
       "5   0.013375  0.016666  0.003977  0.009520    0.007898  0.328245   0.025497   \n",
       "6   0.037962  0.007876  0.005949  0.014839    0.008543  0.041820   0.014233   \n",
       "7   0.007814  0.015795  0.007238  0.016819    0.007387  0.019779   0.011614   \n",
       "8   0.006463  0.005870  0.014002  0.044993    0.011603  0.007474   0.013860   \n",
       "9   0.007754  0.064838  0.004822  0.021680    0.009050  0.006895   0.020781   \n",
       "10  0.034542  0.006841  0.002877  0.004587    0.005749  0.008742   0.012669   \n",
       "11  0.005858  0.211454  0.006455  0.023072    0.031243  0.017125   0.062334   \n",
       "12  0.013694  0.019785  0.005626  0.005813    0.010087  0.007307   0.012514   \n",
       "13  0.009115  0.166925  0.006317  0.009724    0.003333  0.003925   0.015880   \n",
       "14  0.013924  0.008796  0.012215  0.022619    0.023902  0.018620   0.092168   \n",
       "15  0.012434  0.006728  0.028911  0.007972    0.012468  0.015904   0.028911   \n",
       "16  0.022822  0.013328  0.006952  0.006065    0.007343  0.064117   0.017397   \n",
       "17  0.011434  0.007284  0.008469  0.032872    0.023118  0.011241   0.037553   \n",
       "18  0.213385  0.030508  0.027120  0.069115    0.011750  0.018869   0.069953   \n",
       "19  0.013816  0.006205  0.008649  0.010178    0.013624  0.011319   0.036175   \n",
       "20  0.006167  0.005611  0.044317  0.020209    0.094277  0.004375   0.005674   \n",
       "21  0.007798  0.017311  0.010265  0.013201    0.008624  0.006696   0.008616   \n",
       "22  0.006686  0.008075  0.007207  0.002160    0.006999  0.003466   0.004093   \n",
       "23  0.009089  0.005813  0.012756  0.009767    0.006700  0.010862   0.008040   \n",
       "24  0.022292  0.006706  0.010090  0.013969    0.012398  0.011199   0.029479   \n",
       "25  0.010578  0.009879  0.007069  0.015715    0.012986  0.024853   0.008649   \n",
       "26  0.008034  0.008666  0.033495  0.063362    0.183212  0.011317   0.030663   \n",
       "27  0.011209  0.008239  0.006157  0.011504    0.009101  0.010763   0.030326   \n",
       "28  0.001965  0.006719  0.012790  0.020017    0.023677  0.004151   0.012301   \n",
       "29  0.005802  0.009824  0.007634  0.006419    0.007955  0.008044   0.011023   \n",
       "30  0.090822  0.017037  0.014268  0.025122    0.010548  0.027495   0.049122   \n",
       "31  0.020957  0.014690  0.005867  0.007631    0.004952  0.016464   0.021562   \n",
       "32  0.009737  0.004504  0.009535  0.008803    0.012450  0.008164   0.010258   \n",
       "33  0.003937  0.004235  0.015118  0.003938    0.009181  0.006660   0.003093   \n",
       "34  0.050570  0.018321  0.013082  0.072172    0.017413  0.048676   0.052643   \n",
       "35  0.009341  0.005692  0.432284  0.127592    0.142381  0.011085   0.006514   \n",
       "36  0.005962  0.019050  0.010036  0.002960    0.006804  0.002124   0.012933   \n",
       "37  0.010543  0.023884  0.016668  0.018388    0.008730  0.007315   0.011222   \n",
       "38  0.008088  0.009795  0.004862  0.013902    0.013704  0.015660   0.013738   \n",
       "39  0.013212  0.041493  0.015733  0.012014    0.059956  0.015826   0.023451   \n",
       "\n",
       "    japanese   british     greek    indian  jamaican    french   spanish  \\\n",
       "0   0.018455  0.008116  0.042378  0.022988  0.015926  0.034797  0.052234   \n",
       "1   0.043946  0.014720  0.007592  0.011044  0.014095  0.011725  0.007633   \n",
       "2   0.003223  0.014084  0.014880  0.003300  0.005372  0.024964  0.013034   \n",
       "3   0.026697  0.044739  0.012766  0.040609  0.021060  0.017964  0.025519   \n",
       "4   0.014436  0.043928  0.021986  0.011954  0.073484  0.017866  0.034780   \n",
       "5   0.007944  0.017711  0.047799  0.145100  0.020861  0.016454  0.043207   \n",
       "6   0.005935  0.034444  0.017279  0.013336  0.054976  0.019307  0.013087   \n",
       "7   0.008590  0.011034  0.036916  0.008479  0.007939  0.025546  0.030883   \n",
       "8   0.009310  0.008291  0.003772  0.039549  0.016165  0.005587  0.005427   \n",
       "9   0.004201  0.006404  0.048745  0.012975  0.015957  0.006840  0.021519   \n",
       "10  0.006273  0.030113  0.020373  0.005032  0.015746  0.034836  0.019842   \n",
       "11  0.010274  0.001897  0.009502  0.026220  0.048868  0.005713  0.027773   \n",
       "12  0.010361  0.011780  0.069254  0.005797  0.011538  0.010589  0.016276   \n",
       "13  0.004347  0.011525  0.006462  0.006830  0.010032  0.006153  0.013656   \n",
       "14  0.010824  0.018686  0.015504  0.024221  0.013843  0.019110  0.029813   \n",
       "15  0.018777  0.016794  0.008498  0.010919  0.017368  0.014720  0.010966   \n",
       "16  0.009443  0.021657  0.086772  0.009364  0.013080  0.098564  0.144238   \n",
       "17  0.008882  0.010200  0.012329  0.018756  0.056518  0.014258  0.014981   \n",
       "18  0.044166  0.212330  0.038599  0.031051  0.082007  0.074943  0.040015   \n",
       "19  0.005482  0.011837  0.013402  0.028256  0.020383  0.010137  0.011645   \n",
       "20  0.015583  0.009975  0.009475  0.008511  0.010067  0.008721  0.010316   \n",
       "21  0.010315  0.007508  0.010993  0.006509  0.011857  0.007166  0.011594   \n",
       "22  0.009198  0.016293  0.005594  0.003693  0.004186  0.007188  0.005207   \n",
       "23  0.014744  0.011104  0.022084  0.007025  0.019593  0.017408  0.014664   \n",
       "24  0.007981  0.031525  0.011022  0.007734  0.021078  0.032095  0.012510   \n",
       "25  0.040616  0.008562  0.005855  0.252029  0.028720  0.005399  0.005236   \n",
       "26  0.026072  0.012638  0.004627  0.024398  0.037345  0.005339  0.007129   \n",
       "27  0.007713  0.014545  0.015707  0.007397  0.008133  0.016567  0.007250   \n",
       "28  0.007948  0.006081  0.005632  0.008997  0.007391  0.004378  0.010330   \n",
       "29  0.007066  0.012267  0.007181  0.003418  0.007855  0.028944  0.024136   \n",
       "30  0.028872  0.135420  0.028557  0.014787  0.023745  0.165664  0.049064   \n",
       "31  0.002616  0.012822  0.015890  0.011162  0.021746  0.018831  0.017430   \n",
       "32  0.051116  0.003703  0.006257  0.008478  0.006728  0.009329  0.011411   \n",
       "33  0.005370  0.008563  0.015775  0.005401  0.007766  0.008804  0.012960   \n",
       "34  0.014803  0.029038  0.062796  0.020531  0.079256  0.050312  0.045088   \n",
       "35  0.322012  0.004675  0.006944  0.013981  0.048473  0.007743  0.006723   \n",
       "36  0.022854  0.003718  0.005834  0.002844  0.003108  0.004650  0.005038   \n",
       "37  0.012555  0.004015  0.006978  0.007509  0.009074  0.005611  0.010286   \n",
       "38  0.004831  0.007451  0.117539  0.005871  0.008432  0.020686  0.037010   \n",
       "39  0.017595  0.011510  0.011516  0.028848  0.024335  0.008109  0.031082   \n",
       "\n",
       "     russian  cajun_creole      thai  southern_us    korean   italian  \n",
       "0   0.021538      0.020693  0.028992     0.014917  0.013235  0.059598  \n",
       "1   0.034669      0.007587  0.015938     0.009503  0.094724  0.011497  \n",
       "2   0.008374      0.011000  0.008886     0.011746  0.003061  0.017357  \n",
       "3   0.036626      0.009338  0.010721     0.009517  0.013976  0.007415  \n",
       "4   0.029963      0.278178  0.011125     0.073627  0.011320  0.016408  \n",
       "5   0.016993      0.011347  0.013711     0.010120  0.003211  0.011370  \n",
       "6   0.025597      0.012856  0.007794     0.032496  0.003830  0.008910  \n",
       "7   0.010223      0.013173  0.015851     0.010943  0.009573  0.061954  \n",
       "8   0.015246      0.006007  0.015099     0.006798  0.027644  0.003363  \n",
       "9   0.020805      0.029175  0.006987     0.007190  0.004915  0.050120  \n",
       "10  0.033495      0.024103  0.003745     0.025103  0.004899  0.020552  \n",
       "11  0.005286      0.012242  0.040172     0.012577  0.009124  0.006982  \n",
       "12  0.017219      0.009216  0.009099     0.011824  0.009388  0.011131  \n",
       "13  0.031588      0.021263  0.005406     0.018700  0.003757  0.007729  \n",
       "14  0.016503      0.006964  0.019660     0.020902  0.016073  0.012134  \n",
       "15  0.027579      0.006841  0.008974     0.017567  0.012555  0.008761  \n",
       "16  0.028382      0.036012  0.008040     0.022255  0.006545  0.130034  \n",
       "17  0.010784      0.011534  0.056311     0.007558  0.008117  0.012140  \n",
       "18  0.153469      0.051497  0.009490     0.223029  0.018496  0.036917  \n",
       "19  0.009699      0.011331  0.011858     0.012751  0.002848  0.005438  \n",
       "20  0.006866      0.008068  0.088373     0.011130  0.021957  0.009536  \n",
       "21  0.016969      0.018765  0.011017     0.016354  0.006820  0.011939  \n",
       "22  0.007296      0.009544  0.007739     0.015031  0.005733  0.007180  \n",
       "23  0.015209      0.027933  0.005504     0.015391  0.006582  0.011106  \n",
       "24  0.022300      0.009337  0.008404     0.022730  0.008150  0.015029  \n",
       "25  0.010558      0.003335  0.015022     0.006561  0.006645  0.004496  \n",
       "26  0.007294      0.004339  0.172859     0.007899  0.029301  0.003866  \n",
       "27  0.032066      0.015736  0.007266     0.010922  0.006210  0.080409  \n",
       "28  0.003015      0.016477  0.029772     0.007690  0.014201  0.007406  \n",
       "29  0.011195      0.007911  0.008473     0.006098  0.007891  0.013610  \n",
       "30  0.099083      0.031677  0.009562     0.086614  0.014570  0.053227  \n",
       "31  0.014532      0.046727  0.008829     0.028251  0.004285  0.015695  \n",
       "32  0.007497      0.004522  0.011436     0.012407  0.016891  0.007809  \n",
       "33  0.002375      0.005052  0.009153     0.006081  0.004134  0.015890  \n",
       "34  0.063089      0.070277  0.009391     0.040199  0.009408  0.039266  \n",
       "35  0.005081      0.005251  0.121856     0.007799  0.433171  0.004819  \n",
       "36  0.003690      0.004357  0.008161     0.007960  0.010581  0.006321  \n",
       "37  0.005300      0.014353  0.015957     0.011289  0.009771  0.011378  \n",
       "38  0.012526      0.015137  0.008979     0.009719  0.007287  0.079173  \n",
       "39  0.009070      0.016777  0.063205     0.013764  0.017531  0.009232  "
      ]
     },
     "execution_count": 77,
     "metadata": {},
     "output_type": "execute_result"
    }
   ],
   "source": [
    "model = lda\n",
    "\n",
    "tc_matrix = compute_topic_cuisine_matrix(model, corpus, recipes)\n",
    "tc_matrix"
   ]
  },
  {
   "cell_type": "code",
   "execution_count": 81,
   "metadata": {
    "collapsed": true
   },
   "outputs": [],
   "source": [
    "def plot_matrix(tc_matrix):\n",
    "    plt.figure(figsize=(10, 10))\n",
    "    seaborn.heatmap(tc_matrix, square=True)"
   ]
  },
  {
   "cell_type": "code",
   "execution_count": 82,
   "metadata": {
    "collapsed": false
   },
   "outputs": [
    {
     "data": {
      "image/png": "[encoded data removed]",
      "text/plain": [
       "<matplotlib.figure.Figure at 0x187f2ef0>"
      ]
     },
     "metadata": {},
     "output_type": "display_data"
    }
   ],
   "source": [
    "# Визуализируем матрицу\n",
    "plot_matrix(tc_matrix)"
   ]
  },
  {
   "cell_type": "markdown",
   "metadata": {},
   "source": [
    "Чем темнее квадрат в матрице, тем больше связь этой темы с данной кухней. Мы видим, что у нас есть темы, которые связаны с несколькими кухнями. Такие темы показывают набор ингредиентов, которые популярны в кухнях нескольких народов, то есть указывают на схожесть кухонь этих народов. Некоторые темы распределены по всем кухням равномерно, они показывают наборы продуктов, которые часто используются в кулинарии всех стран. "
   ]
  },
  {
   "cell_type": "markdown",
   "metadata": {},
   "source": [
    "Жаль, что в датасете нет названий рецептов, иначе темы было бы проще интерпретировать..."
   ]
  },
  {
   "cell_type": "markdown",
   "metadata": {},
   "source": [
    "### Заключение\n",
    "Мы построили несколько моделей LDA, посмотрели, на что влияют гиперпараметры модели и как можно использовать построенную модель. "
   ]
  }
 ],
 "metadata": {
  "kernelspec": {
   "display_name": "Python 2",
   "language": "python",
   "name": "python2"
  },
  "language_info": {
   "codemirror_mode": {
    "name": "ipython",
    "version": 2
   },
   "file_extension": ".py",
   "mimetype": "text/x-python",
   "name": "python",
   "nbconvert_exporter": "python",
   "pygments_lexer": "ipython2",
   "version": "2.7.13"
  }
 },
 "nbformat": 4,
 "nbformat_minor": 0
}
