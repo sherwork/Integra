{
 "cells": [
  {
   "cell_type": "markdown",
   "metadata": {},
   "source": [
    "# Проект 2"
   ]
  },
  {
   "cell_type": "markdown",
   "metadata": {},
   "source": [
    "### Работа с данными от ССП (Гаврилов)"
   ]
  },
  {
   "cell_type": "code",
   "execution_count": 2,
   "metadata": {
    "collapsed": true
   },
   "outputs": [],
   "source": [
    "import numpy as np\n",
    "import pandas as pd\n",
    "from matplotlib import pyplot as plt\n",
    "import seaborn\n",
    "%matplotlib inline"
   ]
  },
  {
   "cell_type": "code",
   "execution_count": 3,
   "metadata": {
    "collapsed": true
   },
   "outputs": [],
   "source": [
    "data = pd.read_csv('data/tickets_k1/export-3082-tickets-list-page-01-2017-08-29_3e992.csv', \n",
    "                   na_values=\"NaN\", sep=';', header=None, encoding = \"Windows-1251\")"
   ]
  },
  {
   "cell_type": "code",
   "execution_count": 4,
   "metadata": {
    "collapsed": true
   },
   "outputs": [],
   "source": [
    "data.columns = ['num', 'email', 'data', 'text']"
   ]
  },
  {
   "cell_type": "code",
   "execution_count": 6,
   "metadata": {},
   "outputs": [
    {
     "data": {
      "text/html": [
       "<div>\n",
       "<style>\n",
       "    .dataframe thead tr:only-child th {\n",
       "        text-align: right;\n",
       "    }\n",
       "\n",
       "    .dataframe thead th {\n",
       "        text-align: left;\n",
       "    }\n",
       "\n",
       "    .dataframe tbody tr th {\n",
       "        vertical-align: top;\n",
       "    }\n",
       "</style>\n",
       "<table border=\"1\" class=\"dataframe\">\n",
       "  <thead>\n",
       "    <tr style=\"text-align: right;\">\n",
       "      <th></th>\n",
       "      <th>num</th>\n",
       "      <th>email</th>\n",
       "      <th>data</th>\n",
       "      <th>text</th>\n",
       "    </tr>\n",
       "  </thead>\n",
       "  <tbody>\n",
       "    <tr>\n",
       "      <th>0</th>\n",
       "      <td>186750.0</td>\n",
       "      <td>uraire@yandex.ru</td>\n",
       "      <td>2017-08-29 12:25:12+03</td>\n",
       "      <td>Простите не зеленая кнопка , а желтая у меня н...</td>\n",
       "    </tr>\n",
       "    <tr>\n",
       "      <th>1</th>\n",
       "      <td>186749.0</td>\n",
       "      <td>uraire@yandex.ru</td>\n",
       "      <td>2017-08-29 12:20:16+03</td>\n",
       "      <td>Уважаемая техподдержка Нужна вашас помощь.!У м...</td>\n",
       "    </tr>\n",
       "    <tr>\n",
       "      <th>2</th>\n",
       "      <td>186748.0</td>\n",
       "      <td>hottee@i.ua</td>\n",
       "      <td>2017-08-29 12:15:13+03</td>\n",
       "      <td>Добрый день Галина!\\n\\nА есть отзывы о курсе У...</td>\n",
       "    </tr>\n",
       "    <tr>\n",
       "      <th>3</th>\n",
       "      <td>186747.0</td>\n",
       "      <td>viktoriaprokopisena100@gmail.com</td>\n",
       "      <td>2017-08-29 11:55:14+03</td>\n",
       "      <td>Здравствуйте ! Подскажите,пожалуйста,могу ли я...</td>\n",
       "    </tr>\n",
       "    <tr>\n",
       "      <th>4</th>\n",
       "      <td>186746.0</td>\n",
       "      <td>m5.dowlatow@gmail.com</td>\n",
       "      <td>2017-08-29 11:55:14+03</td>\n",
       "      <td>dowlatow\\n\\t\\t\\t\\t\\t\\t\\n\\t\\t\\t\\t\\t\\t\\n\\t\\t\\t\\t...</td>\n",
       "    </tr>\n",
       "  </tbody>\n",
       "</table>\n",
       "</div>"
      ],
      "text/plain": [
       "        num                             email                    data  \\\n",
       "0  186750.0                  uraire@yandex.ru  2017-08-29 12:25:12+03   \n",
       "1  186749.0                  uraire@yandex.ru  2017-08-29 12:20:16+03   \n",
       "2  186748.0                       hottee@i.ua  2017-08-29 12:15:13+03   \n",
       "3  186747.0  viktoriaprokopisena100@gmail.com  2017-08-29 11:55:14+03   \n",
       "4  186746.0             m5.dowlatow@gmail.com  2017-08-29 11:55:14+03   \n",
       "\n",
       "                                                text  \n",
       "0  Простите не зеленая кнопка , а желтая у меня н...  \n",
       "1  Уважаемая техподдержка Нужна вашас помощь.!У м...  \n",
       "2  Добрый день Галина!\\n\\nА есть отзывы о курсе У...  \n",
       "3  Здравствуйте ! Подскажите,пожалуйста,могу ли я...  \n",
       "4  dowlatow\\n\\t\\t\\t\\t\\t\\t\\n\\t\\t\\t\\t\\t\\t\\n\\t\\t\\t\\t...  "
      ]
     },
     "execution_count": 6,
     "metadata": {},
     "output_type": "execute_result"
    }
   ],
   "source": [
    "data.head()"
   ]
  },
  {
   "cell_type": "code",
   "execution_count": 21,
   "metadata": {},
   "outputs": [],
   "source": [
    "data_pay = pd.read_csv(\"data/Kto ya-(2017-08-08).csv\", na_values=\"NaN\", sep=';', encoding = \"Windows-1251\")"
   ]
  },
  {
   "cell_type": "code",
   "execution_count": 22,
   "metadata": {},
   "outputs": [
    {
     "data": {
      "text/html": [
       "<div>\n",
       "<style>\n",
       "    .dataframe thead tr:only-child th {\n",
       "        text-align: right;\n",
       "    }\n",
       "\n",
       "    .dataframe thead th {\n",
       "        text-align: left;\n",
       "    }\n",
       "\n",
       "    .dataframe tbody tr th {\n",
       "        vertical-align: top;\n",
       "    }\n",
       "</style>\n",
       "<table border=\"1\" class=\"dataframe\">\n",
       "  <thead>\n",
       "    <tr style=\"text-align: right;\">\n",
       "      <th></th>\n",
       "      <th>№</th>\n",
       "      <th>Статус</th>\n",
       "      <th>Дата выписки</th>\n",
       "      <th>Дата оплаты</th>\n",
       "      <th>Товар</th>\n",
       "      <th>Контакт</th>\n",
       "      <th>Email</th>\n",
       "      <th>Телефон</th>\n",
       "      <th>Адрес</th>\n",
       "      <th>Сумма</th>\n",
       "      <th>Валюта</th>\n",
       "      <th>Система оплаты</th>\n",
       "    </tr>\n",
       "  </thead>\n",
       "  <tbody>\n",
       "    <tr>\n",
       "      <th>0</th>\n",
       "      <td>153571</td>\n",
       "      <td>Оплачен</td>\n",
       "      <td>08.08.2017 9:44</td>\n",
       "      <td>08.08.2017 9:47</td>\n",
       "      <td>Лицензия на предоставление доступа к БД. Школа...</td>\n",
       "      <td>Чижкова Анна</td>\n",
       "      <td>t89099059385@gmail.com</td>\n",
       "      <td>79099059385</td>\n",
       "      <td>NaN</td>\n",
       "      <td>18000.00</td>\n",
       "      <td>руб</td>\n",
       "      <td>Cloudpayments</td>\n",
       "    </tr>\n",
       "    <tr>\n",
       "      <th>1</th>\n",
       "      <td>153570</td>\n",
       "      <td>Оплачен</td>\n",
       "      <td>08.08.2017 8:55</td>\n",
       "      <td>08.08.2017 8:56</td>\n",
       "      <td>Лицензия на предоставление доступа к БД. Школа...</td>\n",
       "      <td>Чеботарева Виктория</td>\n",
       "      <td>nika-violin@mail.ru</td>\n",
       "      <td>79851387717</td>\n",
       "      <td>NaN</td>\n",
       "      <td>5600.00</td>\n",
       "      <td>руб</td>\n",
       "      <td>Cloudpayments</td>\n",
       "    </tr>\n",
       "    <tr>\n",
       "      <th>2</th>\n",
       "      <td>153569</td>\n",
       "      <td>Дубль</td>\n",
       "      <td>08.08.2017 8:54</td>\n",
       "      <td>Не оплачен</td>\n",
       "      <td>Лицензия на предоставление доступа к БД. Школа...</td>\n",
       "      <td>Чеботарева Виктория</td>\n",
       "      <td>nika-violin@mail.ru</td>\n",
       "      <td>79851387717</td>\n",
       "      <td>NaN</td>\n",
       "      <td>8000.00</td>\n",
       "      <td>руб</td>\n",
       "      <td>Не выбрана</td>\n",
       "    </tr>\n",
       "    <tr>\n",
       "      <th>3</th>\n",
       "      <td>153568</td>\n",
       "      <td>Создан</td>\n",
       "      <td>08.08.2017 8:37</td>\n",
       "      <td>Не оплачен</td>\n",
       "      <td>Где скрывается Ваш успех</td>\n",
       "      <td>Ковригина Ирина</td>\n",
       "      <td>kia-69@mail.ru</td>\n",
       "      <td>79126716464</td>\n",
       "      <td>NaN</td>\n",
       "      <td>370.00</td>\n",
       "      <td>руб</td>\n",
       "      <td>Cloudpayments</td>\n",
       "    </tr>\n",
       "    <tr>\n",
       "      <th>4</th>\n",
       "      <td>153567</td>\n",
       "      <td>Оплачен</td>\n",
       "      <td>08.08.2017 6:44</td>\n",
       "      <td>08.08.2017 6:46</td>\n",
       "      <td>Лицензия на предоставление доступа к БД. Школа...</td>\n",
       "      <td>Шулькин Ирина</td>\n",
       "      <td>shupuwka2@yahoo.com</td>\n",
       "      <td>16263741677</td>\n",
       "      <td>NaN</td>\n",
       "      <td>800.00</td>\n",
       "      <td>руб</td>\n",
       "      <td>PayPal</td>\n",
       "    </tr>\n",
       "  </tbody>\n",
       "</table>\n",
       "</div>"
      ],
      "text/plain": [
       "        №   Статус     Дата выписки      Дата оплаты  \\\n",
       "0  153571  Оплачен  08.08.2017 9:44  08.08.2017 9:47   \n",
       "1  153570  Оплачен  08.08.2017 8:55  08.08.2017 8:56   \n",
       "2  153569    Дубль  08.08.2017 8:54       Не оплачен   \n",
       "3  153568   Создан  08.08.2017 8:37       Не оплачен   \n",
       "4  153567  Оплачен  08.08.2017 6:44  08.08.2017 6:46   \n",
       "\n",
       "                                               Товар              Контакт  \\\n",
       "0  Лицензия на предоставление доступа к БД. Школа...         Чижкова Анна   \n",
       "1  Лицензия на предоставление доступа к БД. Школа...  Чеботарева Виктория   \n",
       "2  Лицензия на предоставление доступа к БД. Школа...  Чеботарева Виктория   \n",
       "3                           Где скрывается Ваш успех      Ковригина Ирина   \n",
       "4  Лицензия на предоставление доступа к БД. Школа...        Шулькин Ирина   \n",
       "\n",
       "                    Email      Телефон Адрес     Сумма Валюта Система оплаты  \n",
       "0  t89099059385@gmail.com  79099059385   NaN  18000.00    руб  Cloudpayments  \n",
       "1     nika-violin@mail.ru  79851387717   NaN   5600.00    руб  Cloudpayments  \n",
       "2     nika-violin@mail.ru  79851387717   NaN   8000.00    руб     Не выбрана  \n",
       "3          kia-69@mail.ru  79126716464   NaN    370.00    руб  Cloudpayments  \n",
       "4     shupuwka2@yahoo.com  16263741677   NaN    800.00    руб         PayPal  "
      ]
     },
     "execution_count": 22,
     "metadata": {},
     "output_type": "execute_result"
    }
   ],
   "source": [
    "data_pay.head()"
   ]
  },
  {
   "cell_type": "code",
   "execution_count": 23,
   "metadata": {},
   "outputs": [
    {
     "name": "stdout",
     "output_type": "stream",
     "text": [
      "<class 'pandas.core.frame.DataFrame'>\n",
      "RangeIndex: 19149 entries, 0 to 19148\n",
      "Data columns (total 12 columns):\n",
      "№                 19149 non-null int64\n",
      "Статус            19149 non-null object\n",
      "Дата выписки      19149 non-null object\n",
      "Дата оплаты       19149 non-null object\n",
      "Товар             19149 non-null object\n",
      "Контакт           16886 non-null object\n",
      "Email             19149 non-null object\n",
      "Телефон           15927 non-null object\n",
      "Адрес             6 non-null object\n",
      "Сумма             19149 non-null object\n",
      "Валюта            19149 non-null object\n",
      "Система оплаты    19149 non-null object\n",
      "dtypes: int64(1), object(11)\n",
      "memory usage: 1.8+ MB\n"
     ]
    }
   ],
   "source": [
    "data_pay.info()"
   ]
  },
  {
   "cell_type": "code",
   "execution_count": 41,
   "metadata": {},
   "outputs": [
    {
     "data": {
      "text/html": [
       "<div>\n",
       "<style>\n",
       "    .dataframe thead tr:only-child th {\n",
       "        text-align: right;\n",
       "    }\n",
       "\n",
       "    .dataframe thead th {\n",
       "        text-align: left;\n",
       "    }\n",
       "\n",
       "    .dataframe tbody tr th {\n",
       "        vertical-align: top;\n",
       "    }\n",
       "</style>\n",
       "<table border=\"1\" class=\"dataframe\">\n",
       "  <thead>\n",
       "    <tr style=\"text-align: right;\">\n",
       "      <th></th>\n",
       "      <th>№</th>\n",
       "    </tr>\n",
       "  </thead>\n",
       "  <tbody>\n",
       "    <tr>\n",
       "      <th>count</th>\n",
       "      <td>19149.000000</td>\n",
       "    </tr>\n",
       "    <tr>\n",
       "      <th>mean</th>\n",
       "      <td>144004.919369</td>\n",
       "    </tr>\n",
       "    <tr>\n",
       "      <th>std</th>\n",
       "      <td>5514.798155</td>\n",
       "    </tr>\n",
       "    <tr>\n",
       "      <th>min</th>\n",
       "      <td>134534.000000</td>\n",
       "    </tr>\n",
       "    <tr>\n",
       "      <th>25%</th>\n",
       "      <td>139206.000000</td>\n",
       "    </tr>\n",
       "    <tr>\n",
       "      <th>50%</th>\n",
       "      <td>143997.000000</td>\n",
       "    </tr>\n",
       "    <tr>\n",
       "      <th>75%</th>\n",
       "      <td>148784.000000</td>\n",
       "    </tr>\n",
       "    <tr>\n",
       "      <th>max</th>\n",
       "      <td>153571.000000</td>\n",
       "    </tr>\n",
       "  </tbody>\n",
       "</table>\n",
       "</div>"
      ],
      "text/plain": [
       "                   №\n",
       "count   19149.000000\n",
       "mean   144004.919369\n",
       "std      5514.798155\n",
       "min    134534.000000\n",
       "25%    139206.000000\n",
       "50%    143997.000000\n",
       "75%    148784.000000\n",
       "max    153571.000000"
      ]
     },
     "execution_count": 41,
     "metadata": {},
     "output_type": "execute_result"
    }
   ],
   "source": [
    "data_pay.describe()"
   ]
  },
  {
   "cell_type": "code",
   "execution_count": 38,
   "metadata": {},
   "outputs": [
    {
     "data": {
      "text/html": [
       "<div>\n",
       "<style>\n",
       "    .dataframe thead tr:only-child th {\n",
       "        text-align: right;\n",
       "    }\n",
       "\n",
       "    .dataframe thead th {\n",
       "        text-align: left;\n",
       "    }\n",
       "\n",
       "    .dataframe tbody tr th {\n",
       "        vertical-align: top;\n",
       "    }\n",
       "</style>\n",
       "<table border=\"1\" class=\"dataframe\">\n",
       "  <thead>\n",
       "    <tr style=\"text-align: right;\">\n",
       "      <th></th>\n",
       "      <th>num</th>\n",
       "      <th>email</th>\n",
       "      <th>data</th>\n",
       "      <th>text</th>\n",
       "    </tr>\n",
       "  </thead>\n",
       "  <tbody>\n",
       "    <tr>\n",
       "      <th>25324</th>\n",
       "      <td>NaN</td>\n",
       "      <td>kdowlatow</td>\n",
       "      <td>2017-05-31 00:16:32+03</td>\n",
       "      <td>Давайте попробуем\\n----\\n \\n\\n\\nС уважением, К...</td>\n",
       "    </tr>\n",
       "  </tbody>\n",
       "</table>\n",
       "</div>"
      ],
      "text/plain": [
       "       num      email                    data  \\\n",
       "25324  NaN  kdowlatow  2017-05-31 00:16:32+03   \n",
       "\n",
       "                                                    text  \n",
       "25324  Давайте попробуем\\n----\\n \\n\\n\\nС уважением, К...  "
      ]
     },
     "execution_count": 38,
     "metadata": {},
     "output_type": "execute_result"
    }
   ],
   "source": [
    "data[data['email'] == 'kdowlatow']"
   ]
  },
  {
   "cell_type": "code",
   "execution_count": 36,
   "metadata": {},
   "outputs": [
    {
     "data": {
      "text/plain": [
       "m2.dowlatow@gmail.com                 3034\n",
       "evgenijzharko@gmail.com               2424\n",
       "software.dowlatow@gmail.com           2379\n",
       "m3.dowlatow@gmail.com                 1687\n",
       "Kujel                                 1015\n",
       "Roxana                                1008\n",
       "m7.dowlatow@gmail.com                  875\n",
       "Olifirenko                             874\n",
       "Kuznecova                              867\n",
       "Aleksandr                              842\n",
       "Kozlova                                664\n",
       "Irina                                  663\n",
       "Alshaldi                               645\n",
       "Habarov                                531\n",
       "paymentcenter@yamoney.ru               347\n",
       "Balatskay                              281\n",
       "support@dowlatow.ru                    276\n",
       "Balatskiy                              259\n",
       "demopaymentcenter@yamoney.ru           232\n",
       "Ulynova                                229\n",
       "Manager2                               212\n",
       "Elena                                  208\n",
       "Evgeny                                 196\n",
       "awkhabaroff@mail.ru                    139\n",
       "Manager3                               126\n",
       "Kosareva                               115\n",
       "subscribe@info.topexpert.pro           104\n",
       "Anna_Watts                              90\n",
       "Nazyrova                                90\n",
       "sofia.prisacaru@gmail.com               87\n",
       "                                      ... \n",
       "barabi@inbox.ru                          1\n",
       "kdowlatow                                1\n",
       "irinushka@email.ua                       1\n",
       "irina-ajax@mail.ru                       1\n",
       "v.v.s.72@yandex.ru                       1\n",
       "prodawez393@gmail.com                    1\n",
       "vli14326@gmail.com                       1\n",
       "woodl3208@gmail.com                      1\n",
       "i_gorenkova@mail.ru                      1\n",
       "industrialbiotech@yahoo.com              1\n",
       "382366072.7e1f2dc0@reply.podio.com       1\n",
       "mishhenko-natalya@mail.ru                1\n",
       "ametist@bk.ru                            1\n",
       "m.andreeva@ag-brand.com                  1\n",
       "evgenia.tarasenko@gmail.com              1\n",
       "tyuv200@yandex.ru                        1\n",
       "sales@foodintime.ru                      1\n",
       "susanna78@list.ru                        1\n",
       "younger-bear@mail.ru                     1\n",
       "lanalutsk@gmail.com                      1\n",
       "support1@kovka-dlya-vas.ru               1\n",
       "gorodshahti63@gmail.com                  1\n",
       "yu.zhibrova@gmail.com                    1\n",
       "swetarada@rambler.ru                     1\n",
       "vikymaster01@gmail.com                   1\n",
       "olga@reiki.ee                            1\n",
       "steshenko.s@gmail.com                    1\n",
       "dowlatow                                 1\n",
       "paseka-m@bk.ru                           1\n",
       "vera_fo_m@mail.ru                        1\n",
       "Name: email, Length: 3260, dtype: int64"
      ]
     },
     "execution_count": 36,
     "metadata": {},
     "output_type": "execute_result"
    }
   ],
   "source": [
    "data['email'].value_counts()"
   ]
  },
  {
   "cell_type": "code",
   "execution_count": null,
   "metadata": {
    "collapsed": true
   },
   "outputs": [],
   "source": []
  }
 ],
 "metadata": {
  "kernelspec": {
   "display_name": "Python 3",
   "language": "python",
   "name": "python3"
  },
  "language_info": {
   "codemirror_mode": {
    "name": "ipython",
    "version": 3
   },
   "file_extension": ".py",
   "mimetype": "text/x-python",
   "name": "python",
   "nbconvert_exporter": "python",
   "pygments_lexer": "ipython3",
   "version": "3.6.1"
  }
 },
 "nbformat": 4,
 "nbformat_minor": 2
}
